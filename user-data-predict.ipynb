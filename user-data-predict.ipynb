{
 "cells": [
  {
   "cell_type": "markdown",
   "metadata": {},
   "source": [
    "# Airbnb New User Bookings\n",
    "## 1.数据处理"
   ]
  },
  {
   "cell_type": "markdown",
   "metadata": {},
   "source": [
    "### 1.1导入数据\n",
    "语句简要说明：首先将必用包导入。\n",
    "\n",
    "**%matplotlib inline** 表示将绘制出的表格嵌入到notebook中。"
   ]
  },
  {
   "cell_type": "code",
   "execution_count": 1,
   "metadata": {
    "scrolled": true
   },
   "outputs": [],
   "source": [
    "import numpy as np\n",
    "import pandas as pd\n",
    "import matplotlib.pyplot as plt\n",
    "import sklearn as sk\n",
    "%matplotlib inline\n",
    "import datetime\n",
    "import os\n",
    "import seaborn as sns#数据可视化\n",
    "from datetime import date\n",
    "from sklearn.preprocessing import LabelEncoder\n",
    "from sklearn.preprocessing import StandardScaler\n",
    "from sklearn.preprocessing import LabelBinarizer\n",
    "import pickle #用于存储模型\n",
    "import seaborn as sns\n",
    "from sklearn.metrics import *\n",
    "from sklearn.model_selection import *"
   ]
  },
  {
   "cell_type": "markdown",
   "metadata": {},
   "source": [
    "使用pd.read_csv()将训练集以及测试集数据导入读取。并存储在train与test中。"
   ]
  },
  {
   "cell_type": "code",
   "execution_count": 2,
   "metadata": {},
   "outputs": [],
   "source": [
    "train = pd.read_csv(\"./Data/train_users_2.csv\")\n",
    "test = pd.read_csv(\"./Data/test_users.csv\")"
   ]
  },
  {
   "cell_type": "markdown",
   "metadata": {},
   "source": [
    "### 1.2数据分析——train，test文件\n",
    "读取了数据集之后，分别打印出两个数据集中所包含的特征。运行之后可以看到，\n",
    "training数据集与test数据集中的数据大致相同。而trainingt比test数据集中多了\n",
    "“country_destination”特征，是需要预测的目标变量。因此在我们进行数据分析处理时\n",
    "着重分析train文件"
   ]
  },
  {
   "cell_type": "code",
   "execution_count": 3,
   "metadata": {
    "scrolled": false
   },
   "outputs": [
    {
     "name": "stdout",
     "output_type": "stream",
     "text": [
      "the columns name of training dataset:\n",
      " Index(['id', 'date_account_created', 'timestamp_first_active',\n",
      "       'date_first_booking', 'gender', 'age', 'signup_method', 'signup_flow',\n",
      "       'language', 'affiliate_channel', 'affiliate_provider',\n",
      "       'first_affiliate_tracked', 'signup_app', 'first_device_type',\n",
      "       'first_browser', 'country_destination'],\n",
      "      dtype='object')\n",
      "the columns name of test dataset:\n",
      " Index(['id', 'date_account_created', 'timestamp_first_active',\n",
      "       'date_first_booking', 'gender', 'age', 'signup_method', 'signup_flow',\n",
      "       'language', 'affiliate_channel', 'affiliate_provider',\n",
      "       'first_affiliate_tracked', 'signup_app', 'first_device_type',\n",
      "       'first_browser'],\n",
      "      dtype='object')\n"
     ]
    }
   ],
   "source": [
    "print('the columns name of training dataset:\\n',train.columns)\n",
    "print('the columns name of test dataset:\\n',test.columns)"
   ]
  },
  {
   "cell_type": "markdown",
   "metadata": {},
   "source": [
    "在得知数据集所有特征之后，我们选择train文件进行分析。通过info（）方法将数据集的简要信息打印出来。\n",
    "\n",
    "运行之后我们可以得知：\n",
    "\n",
    "train文件包含213451条数据，16个特征。并且date_first_booking和first_affiliate_tracked存在多个空值。\n",
    "\n",
    "在运算计算过程中，对于这两个特征应该小心考虑\n",
    "并且，由于date_first_booking空值较多。在特征提取时，可以考虑是否要进行删除。\n",
    " \n",
    "---\n",
    "\n",
    "**所使用方法说明：**\n",
    "\n",
    "**DataFrame.info()————pandas**\n",
    "\n",
    "**用于对某个数据集的简要统计说明。**"
   ]
  },
  {
   "cell_type": "code",
   "execution_count": 4,
   "metadata": {
    "scrolled": false
   },
   "outputs": [
    {
     "name": "stdout",
     "output_type": "stream",
     "text": [
      "<class 'pandas.core.frame.DataFrame'>\n",
      "RangeIndex: 213451 entries, 0 to 213450\n",
      "Data columns (total 16 columns):\n",
      "id                         213451 non-null object\n",
      "date_account_created       213451 non-null object\n",
      "timestamp_first_active     213451 non-null int64\n",
      "date_first_booking         88908 non-null object\n",
      "gender                     213451 non-null object\n",
      "age                        125461 non-null float64\n",
      "signup_method              213451 non-null object\n",
      "signup_flow                213451 non-null int64\n",
      "language                   213451 non-null object\n",
      "affiliate_channel          213451 non-null object\n",
      "affiliate_provider         213451 non-null object\n",
      "first_affiliate_tracked    207386 non-null object\n",
      "signup_app                 213451 non-null object\n",
      "first_device_type          213451 non-null object\n",
      "first_browser              213451 non-null object\n",
      "country_destination        213451 non-null object\n",
      "dtypes: float64(1), int64(2), object(13)\n",
      "memory usage: 26.1+ MB\n",
      "None\n"
     ]
    }
   ],
   "source": [
    "print(train.info())"
   ]
  },
  {
   "cell_type": "markdown",
   "metadata": {},
   "source": [
    "#### 1.2.1 date_account_created\n",
    "通过info（）方法得知数据集的特征之后，我们开始对所有特征进行逐个分析。因为id是用户的标记名称，作为分析的意义不大。因此我们可以略过，直接分析date_account_created特征。首先使用describe()方法查看date_account_created特征的概要信息。我们通过输出可以看出以下信息：\n",
    "\n",
    "date_account_created总共有213451条数据，\n",
    "\n",
    "不重复日期有1634天，\n",
    "\n",
    "最近一次日期为2014-05-13 等……\n",
    "\n",
    "---\n",
    "\n",
    "\n",
    "**所使用方法说明：**\n",
    "\n",
    "**DataFrame.describe()————pandas**\n",
    "\n",
    "**describe()函数自动计算的字段有count（非空值数）、unique（唯一值数）、top（频数最高者）、freq（最高频数量）**"
   ]
  },
  {
   "cell_type": "code",
   "execution_count": 5,
   "metadata": {
    "scrolled": true
   },
   "outputs": [
    {
     "name": "stdout",
     "output_type": "stream",
     "text": [
      "count         213451\n",
      "unique          1634\n",
      "top       2014-05-13\n",
      "freq             674\n",
      "Name: date_account_created, dtype: object\n"
     ]
    }
   ],
   "source": [
    "print(train.date_account_created.describe())"
   ]
  },
  {
   "cell_type": "markdown",
   "metadata": {},
   "source": [
    "分析了大致情况之后，我们可以通过数据可视化处理，将**date_account_created**中的数据分析并以图像展示。\n",
    "\n",
    "我们可以通过下面的图标发现，用户的增长量是与日期成正比的。\n",
    "\n",
    "\n",
    "---\n",
    "\n",
    "**所使用方法说明：**\n",
    "\n",
    "**1.pandas.Series.value_counts()**\n",
    "\n",
    "**value_counts()是一种查看表格某列中有多少个不同值的快捷方法，并计算每个不同值有在该列中有多少重复值。默认为递减排序**\n",
    "\n",
    "**输出为Series，是一个一维数组，第一列作为series的index索引**\n",
    "\n",
    "**2.pandas.index**\n",
    "\n",
    "**网络上对于index的用法讲述并不明确，这里我认为在这里index的用途是将series的索引取出。**\n",
    "\n",
    "**3.panda.to_datetime()**\n",
    "\n",
    "**将Str和Unicode转化为时间格式**\n",
    "**4.matplotlib.pyplot.scatter(x, y, s=None, c=None, marker=None, cmap=None, norm=None, vmin=None, vmax=None, alpha=None, linewidths=None, verts=None, edgecolors=None, \\*, data=None, \\*\\*kwargs)**\n",
    "\n",
    "**用来绘制绘制散点图。**\n",
    "\n",
    " |参数|意义|\n",
    " |----|----|\n",
    " |x|x轴的变量|\n",
    " |y|y轴的变量|\n",
    " |s|形状大小|\n",
    " |c|颜色| \n"
   ]
  },
  {
   "cell_type": "code",
   "execution_count": 6,
   "metadata": {},
   "outputs": [
    {
     "data": {
      "text/plain": [
       "<matplotlib.legend.Legend at 0x1fef5b12940>"
      ]
     },
     "execution_count": 6,
     "metadata": {},
     "output_type": "execute_result"
    },
    {
     "data": {
      "image/png": "[encoded data removed]",
      "text/plain": [
       "<Figure size 432x288 with 1 Axes>"
      ]
     },
     "metadata": {
      "needs_background": "light"
     },
     "output_type": "display_data"
    }
   ],
   "source": [
    "#计算train训练集和test训练集中date_account_created的唯一值及其频率次数\n",
    "dac_train = train.date_account_created.value_counts()\n",
    "dac_test = test.date_account_created.value_counts()\n",
    "#将统计后的所有日期由字符串格式转换为统一的日期格式\n",
    "dac_train_date = pd.to_datetime(train.date_account_created.value_counts().index)\n",
    "dac_test_date = pd.to_datetime(test.date_account_created.value_counts().index)\n",
    "#计算日期差距\n",
    "dac_train_day = dac_train_date - dac_train_date.min()\n",
    "dac_test_day = dac_test_date - dac_train_date.min()\n",
    "#将train数据集和test数据集全部显示在图中\n",
    "plt.scatter(dac_train_day.days,dac_train.values, color = 'r', label = 'train dataset')\n",
    "plt.scatter(dac_test_day.days,dac_test.values, color = 'b', label = 'test dataset')\n",
    "#注明点状图的各个名称\n",
    "plt.title('Accounts created vs day')\n",
    "plt.xlabel('Days')\n",
    "plt.ylabel('Accounts created')\n",
    "plt.legend(loc = 'upper left')"
   ]
  },
  {
   "cell_type": "markdown",
   "metadata": {},
   "source": [
    "#### 1.2.2 timestamp_first_active \n",
    "在分析了上述的特征之后，我们对第二个特征timestamp_first_active 进行分析。\n",
    "\n",
    "同样我们首先通过describe查看timestamp_first_active 特征的简要统计信息。"
   ]
  },
  {
   "cell_type": "code",
   "execution_count": 7,
   "metadata": {},
   "outputs": [
    {
     "name": "stdout",
     "output_type": "stream",
     "text": [
      "count    2.134510e+05\n",
      "mean     2.013085e+13\n",
      "std      9.253717e+09\n",
      "min      2.009032e+13\n",
      "25%      2.012123e+13\n",
      "50%      2.013091e+13\n",
      "75%      2.014031e+13\n",
      "max      2.014063e+13\n",
      "Name: timestamp_first_active, dtype: float64\n"
     ]
    }
   ],
   "source": [
    "print(train.timestamp_first_active.describe())"
   ]
  },
  {
   "cell_type": "markdown",
   "metadata": {},
   "source": [
    "上面的统计信息因为记录的字符串过长，被显示为了浮点型数据。我们可以选择查看部分数据。\n",
    "\n",
    "----\n",
    "\n",
    "**所用的方法：**\n",
    "\n",
    "**head()————panda**\n",
    "\n",
    "**用来查看前几行的数据，（）中输入整型数字n表示查看前n个数据。**"
   ]
  },
  {
   "cell_type": "code",
   "execution_count": 8,
   "metadata": {},
   "outputs": [
    {
     "name": "stdout",
     "output_type": "stream",
     "text": [
      "0    20090319043255\n",
      "1    20090523174809\n",
      "2    20090609231247\n",
      "3    20091031060129\n",
      "4    20091208061105\n",
      "Name: timestamp_first_active, dtype: int64\n"
     ]
    }
   ],
   "source": [
    "print(train.timestamp_first_active.head())"
   ]
  },
  {
   "cell_type": "markdown",
   "metadata": {},
   "source": [
    "接下来我们查看该特征下的值得频率。我们可以发现得到的频率统计似乎都是1。\n",
    "\n",
    "为了验证我们的猜想，我们再用value_counts（）统计之后，我们再使用unique()方法来确定是否全部都无重复。\n",
    "\n",
    "我们可以发现并无重复数据。\n",
    "\n",
    "----\n",
    "\n",
    "**所用到的方法：**\n",
    "\n",
    "**unique（）————pandas**\n",
    "**用来检测数据中是否存在重复值。**"
   ]
  },
  {
   "cell_type": "code",
   "execution_count": 9,
   "metadata": {},
   "outputs": [
    {
     "name": "stdout",
     "output_type": "stream",
     "text": [
      "[1]\n"
     ]
    }
   ],
   "source": [
    "#print(train.timestamp_first_active.value_counts())\n",
    "print(train.timestamp_first_active.value_counts().unique())"
   ]
  },
  {
   "cell_type": "markdown",
   "metadata": {},
   "source": [
    "因为并不存在重复数据，且数据量过大，对其进行数据可视化的效果可能并不理想，因此先暂放。\n",
    "\n",
    "但是我们可以看到该特征下的数据并非是正常的日期格式，而是以字符串表示。为了之后分析便捷，我们将数据进行格式转换。\n",
    "\n",
    "通过切片操作，将年月日时依次切分。并且我们已知timestamp_first_active类型为int64，所以我们如果需要使用切片处理，\n",
    "\n",
    "最好的方法是先进行格式转换。\n",
    "\n",
    "----\n",
    "\n",
    "**所用到的方法**\n",
    "\n",
    "**1、DataFrame.apply(func, axis=0, broadcast=False, raw=False, reduce=None, args=(), /* /* kwds)——pandas**\n",
    "\n",
    "**该函数最有用的是第一个参数，这个参数是函数，相当于C/C++的函数指针。**\n",
    "\n",
    "**这个函数需要自己实现，函数的传入参数根据axis来定，比如axis = 1，就会把一行数据作为Series的数据**\n",
    "\n",
    "**结构传入给自己实现的函数中，我们在函数中实现对Series不同属性之间的计算，返回一个结果，则apply函数**\n",
    "\n",
    "**会自动遍历每一行DataFrame的数据，最后将所有结果组合成一个Series数据结构并返回。**\n",
    "\n",
    "**2.lambda\n",
    "**lambda argument_list: expression**\n",
    "**lambda是Python预留的关键字，argument_list和expression由用户自定义。具体介绍如下。这里的argument_list是参数列表。它的结构与Python中函数**\n",
    "\n",
    "**(function)的参数列表是一样的。具体来说，argument_list可以有非常多的形式。例如：数值，变量，为空等。这里的expression是一个关于参数的表达**\n",
    "\n",
    "**式。表达式中出现的参数需要在argument_list中有定义，并且表达式只能是单行的。**\n",
    "\n",
    "**lambda函数有如下特性：**\n",
    "\n",
    "    * lambda函数是匿名的：所谓匿名函数，通俗地说就是没有名字的函数。lambda函数没有名字。\n",
    "\n",
    "    * lambda函数有输入和输出：输入是传入到参数列表argument_list的值，输出是根据表达式expression计算得到的值。\n",
    "\n",
    "    * lambda函数一般功能简单：单行expression决定了lambda函数不可能完成复杂的逻辑，只能完成非常简单的功能。由于其实现的功能一目了然,甚至不需要专门的名字来说明。\n",
    "\n",
    "**3.astype()————Numpy数组**\n",
    "\n",
    "**用于数据类型转换，（）中是需要转换成的数据类型。**\n"
   ]
  },
  {
   "cell_type": "code",
   "execution_count": 10,
   "metadata": {},
   "outputs": [
    {
     "name": "stdout",
     "output_type": "stream",
     "text": [
      "count                  213451\n",
      "unique                 213451\n",
      "top       2013-07-01 05:26:34\n",
      "freq                        1\n",
      "first     2009-03-19 04:32:55\n",
      "last      2014-06-30 23:58:24\n",
      "Name: timestamp_first_active, dtype: object\n"
     ]
    }
   ],
   "source": [
    "tfa_train_dt = train.timestamp_first_active.astype(str).apply(lambda x:  \n",
    "                                                                    datetime.datetime(int(x[:4]),\n",
    "                                                                                      int(x[4:6]), \n",
    "                                                                                      int(x[6:8]), \n",
    "                                                                                      int(x[8:10]), \n",
    "                                                                                      int(x[10:12]),\n",
    "                                                                                      int(x[12:])))\n",
    "print(tfa_train_dt.describe())"
   ]
  },
  {
   "cell_type": "markdown",
   "metadata": {},
   "source": [
    "#### 1.2.3 date_first_booking \n",
    "同上文一样，我们先查看数据的简要统计。我们会发现在训练集中，date_first_booking 特征存在大量缺失值。\n",
    "因此我们再对测试集进行查看。发现测试集中的date_first_booking 特征全部都是缺失值。因此我们对于这项特征，先不考虑。在建模初期可以尝试删除。"
   ]
  },
  {
   "cell_type": "code",
   "execution_count": 11,
   "metadata": {},
   "outputs": [
    {
     "name": "stdout",
     "output_type": "stream",
     "text": [
      "***********训练集****************\n",
      "count          88908\n",
      "unique          1976\n",
      "top       2014-05-22\n",
      "freq             248\n",
      "Name: date_first_booking, dtype: object\n",
      "***********测试集****************\n",
      "count    0.0\n",
      "mean     NaN\n",
      "std      NaN\n",
      "min      NaN\n",
      "25%      NaN\n",
      "50%      NaN\n",
      "75%      NaN\n",
      "max      NaN\n",
      "Name: date_first_booking, dtype: float64\n"
     ]
    }
   ],
   "source": [
    "print(\"***********训练集****************\")\n",
    "print(train.date_first_booking.describe())\n",
    "print(\"***********测试集****************\")\n",
    "print(test.date_first_booking.describe())"
   ]
  },
  {
   "cell_type": "markdown",
   "metadata": {},
   "source": [
    "#### 1.2.4 age\n",
    "查看age简要统计,但是在查看中我们发现value_counts()统计出来的结果频率重复高，且过于冗长，我们只查看前五个即可。"
   ]
  },
  {
   "cell_type": "code",
   "execution_count": 12,
   "metadata": {},
   "outputs": [
    {
     "name": "stdout",
     "output_type": "stream",
     "text": [
      "30.0    6124\n",
      "31.0    6016\n",
      "29.0    5963\n",
      "28.0    5939\n",
      "32.0    5855\n",
      "Name: age, dtype: int64\n",
      "count    125461.000000\n",
      "mean         49.668335\n",
      "std         155.666612\n",
      "min           1.000000\n",
      "25%          28.000000\n",
      "50%          34.000000\n",
      "75%          43.000000\n",
      "max        2014.000000\n",
      "Name: age, dtype: float64\n"
     ]
    }
   ],
   "source": [
    "print(train.age.value_counts().head(5))\n",
    "print(train.age.describe())"
   ]
  },
  {
   "cell_type": "markdown",
   "metadata": {},
   "source": [
    "在分析之后，发现age特征的重复频率较高，且分阶段明显，因此我们可以考虑使用柱状图或者饼状图进行数据可视化处理。\n",
    "\n",
    "经过分析之后我们可以发现，大部分用户的年龄都在正常范围内。并且具有一定数量的缺失值。\n",
    "\n",
    "----\n",
    "**所用到的方法：**\n",
    "\n",
    "**1、shape——numpy**\n",
    "\n",
    "**shape函数是它的功能是读取矩阵的长度，比如shape\\[0\\]就是读取矩阵第一维度的长度。直接用.shape可以快速读取矩阵的形状。**\n",
    "\n",
    "**2.pandas.DataFrame.query（）**\n",
    "**用来查询满足某项条件的某一列的值。**\n",
    "\n",
    "**3.matplotlib.pyplot.subplots(nrows=1, ncols=1, sharex=False, sharey=False, squeeze=True, subplot_kw=None, gridspec_kw=None, **fig_kw)**\n",
    "\n",
    "**参数解释：**\n",
    "    * nrows,ncols:整型，可选参数，默认为1。表示子图网格(grid)的行数与列数\n",
    "    * sharex,sharey：布尔值或者{'none','all','row','col'}，默认：False。控制x(sharex)或y(sharey)轴之间的属性共享：\n",
    "                        1.True或者'all'：x或y轴属性将在所有子图(subplots)中共享.\n",
    "                        2.False或'none'：每个子图的x或y轴都是独立的部分\n",
    "                        3.'row'：每个子图在一个x或y轴共享行(row)\n",
    "                        4.'col':每个子图在一个x或y轴共享列(column)\n",
    "                          当子图在x轴有一个共享列时('col'),只有底部子图的x tick标记是可视的。\n",
    "                          同理，当子图在y轴有一个共享行时('row'),只有第一列子图的y tick标记是可视的。\n",
    "    * squeeze：布尔类型，可选参数，默认：True。如果是True，额外的维度从返回的Axes(轴)对象中挤出。\n",
    "                        》如果只有一个子图被构建(nrows=ncols=1)，结果是单个Axes对象作为标量被返回。\n",
    "                        》对于N* 1或1* N个子图，返回一个1维数组。\n",
    "                        》对于N* M，N>1和M>1返回一个2维数组。\n",
    "                        如果是False，不进行挤压操作：返回一个元素为Axes实例的2维数组，即使它最终是1x1。\n",
    "    * subplot_kw:字典类型，可选参数。把字典的关键字传递给add_subplot()来创建每个子图。\n",
    "    * gridspec_kw字典类型，可选参数。把字典的关键字传递给GridSpec构造函数创建子图放在网格里(grid)。\n",
    "    * * * fig_kw：把所有详细的关键字参数传给figure()函数\n",
    "    \n",
    "**4、pie(x,explode=None,labels=None,colors='b','g','r','c','m','y','k','w'),autopct=None,pctdistance=0.6,shadow=False,labeldistance=1.1,st**\n",
    "**artangle=None, radius=None,counterclock=True,wedgeprops=None,textprops=None,center=（0,0),frame=False )**\n",
    "    * x：(每一块)的比例，如果sum(x) > 1会使用sum(x)归一化\n",
    "    * labels：(每一块)饼图外侧显示的说明文字explode (每一块)离开中心距离\n",
    "    * startangle：起始绘制角度,默认图是从x轴正方向逆时针画起,如设定=90则从y轴正方向画起\n",
    "    * shadow：是否阴影\n",
    "    * labeldistance：label绘制位置,相对于半径的比例, 如<1则绘制在饼图内侧\n",
    "    * autopct：控制饼图内百分比设置,可以使用format字符串或者format function\n",
    "            '%1.1f'指小数点前后位数(没有用空格补齐)\n",
    "    * pctdistance 类似于labeldistance,指定autopct的位置刻度\n",
    "    * radius：控制饼图半径"
   ]
  },
  {
   "cell_type": "code",
   "execution_count": 13,
   "metadata": {},
   "outputs": [
    {
     "data": {
      "image/png": "[encoded data removed]",
      "text/plain": [
       "<Figure size 720x360 with 1 Axes>"
      ]
     },
     "metadata": {
      "needs_background": "light"
     },
     "output_type": "display_data"
    },
    {
     "data": {
      "image/png": "[encoded data removed]",
      "text/plain": [
       "<Figure size 432x288 with 1 Axes>"
      ]
     },
     "metadata": {},
     "output_type": "display_data"
    }
   ],
   "source": [
    "#首先将年龄分组吧，而且因为存在部分空值，因此分组为：null，低龄（0-18），成年人（18-90），高龄（90+）\n",
    "age_train = [train[train.age.isnull()].age.shape[0],\n",
    "             train.query('age < 18').age.shape[0],\n",
    "             train.query('age >= 18 & age <=90').age.shape[0],\n",
    "             train.query('age>90').age.shape[0]]\n",
    "\n",
    "#设置分类好的标签\n",
    "#画树状图\n",
    "labels = ['null','age<18','18<=age<=90','age>90']\n",
    "fig,x1 = plt.subplots(sharex=True,sharey=True,figsize=(10,5))\n",
    "sns.barplot(labels,age_train,ax = x1)\n",
    "x1.set_title('training dataset')\n",
    "x1.set_ylabel('Numbers')\n",
    "\n",
    "#画饼状图\n",
    "fig2 = plt.figure()\n",
    "plt.pie(age_train,labels=labels,autopct='%1.2f%%')\n",
    "plt.title('Pie chart')\n",
    "plt.show()"
   ]
  },
  {
   "cell_type": "markdown",
   "metadata": {},
   "source": [
    "通过查看csv源文件数据，我们发现其他特征所包含的labels并不多，因此我们可以尝试在特征分析过程中使用**独热编码（one hot encoding）**即可。\n",
    "\n",
    "**独热编码（one hot encoding）**\n",
    "\n",
    "独热编码，又称一位有效编码，其方法是使用N位状态寄存器来对N个状态进行编码，每个状态都有它独立的寄存器位，并且在任意时候，其中只有一位有效。\n",
    "\n",
    "    * 例如：\n",
    "\n",
    "        ** 自然状态码为：000  ,  001,   010,   011,  100,  101\n",
    "\n",
    "        ** 独热编码为  ：000001,000010,000100,001000,010000,100000\n",
    " \n",
    "可以这样理解，对于每一个特征，如果它有m个可能值，那么经过独热编码后，就变成了m个二元特征。并且，这些特征互斥，每次只有一个激活。因此，数据会变成稀疏的。这样做的好处主要有：\n",
    "\n",
    "    1、解决了分类器不好处理属性数据的问题\n",
    "\n",
    "    2、在一定程度上也起到了扩充特征的作用\n",
    "    \n",
    "同时为了方便，我们定义一个函数用来处理后面的特征。\n",
    "\n",
    "----\n",
    "**所用到的方法**\n",
    "\n",
    "**1、seaborn.barplot(x=None, y=None, hue=None, data=None, order=None, hue_order=None,ci=95, n_boot=1000, units=None, orient=None,**\n",
    "\n",
    "**color=None, palette=None, saturation=0.75, errcolor='.26', errwidth=None, capsize=None, ax=None, estimator=<function mean>，* * kwargs)**\n",
    "\n",
    "参数解释：\n",
    "    * x, y, hue： 设置 x,y轴以及颜色控制的变量\n",
    "    * data：输入的数据集\n",
    "    * order, hue_order：控制变量绘图的顺序\n",
    "    * ax：设置子图位置\n",
    "\n",
    "**2、"
   ]
  },
  {
   "cell_type": "code",
   "execution_count": 14,
   "metadata": {},
   "outputs": [],
   "source": [
    "def feature_barplot(feature, df_train = train, figsize=(10,5), rot = 90, saveimg = False): \n",
    "    \"\"\"\n",
    "    feature:要处理的特征\n",
    "    df_train:训练集\n",
    "    figsize:已存在figure对象，通过fig设置尺寸大小。\n",
    "    rot:\n",
    "    saveimg:\n",
    "    \"\"\"\n",
    "    #读取训练集该特征的简要数据统计\n",
    "    feat_train = df_train[feature].value_counts()\n",
    "    #绘制图片\n",
    "    fig_feature,axis1 = plt.subplots(figsize = figsize)\n",
    "    sns.barplot(feat_train.index.values, feat_train.values)\n",
    "    #用来对x轴上的标记进行优化。因为后面再统计first_browser的时候通过这条语句可以避免图片里各个标签元素名称重叠\n",
    "    axis1.set_xticklabels(axis1.xaxis.get_majorticklabels(), rotation = rot)\n",
    "    #对图片进行标注\n",
    "    axis1.set_title(feature + ' of training dataset')\n",
    "    axis1.set_ylabel('Numbers')\n",
    "    \n",
    "    #图片保存\n",
    "    if saveimg == True:\n",
    "        figname = feature + \".png\"\n",
    "        fig_feature.savefig(figname, dpi = 75)"
   ]
  },
  {
   "cell_type": "markdown",
   "metadata": {},
   "source": [
    "#### 1.2.5 gender\n",
    "对性别进行分析，发现男性的数量要少量低于女性，且存在大量null值。"
   ]
  },
  {
   "cell_type": "code",
   "execution_count": 15,
   "metadata": {},
   "outputs": [
    {
     "data": {
      "image/png": "[encoded data removed]",
      "text/plain": [
       "<Figure size 720x360 with 1 Axes>"
      ]
     },
     "metadata": {
      "needs_background": "light"
     },
     "output_type": "display_data"
    }
   ],
   "source": [
    "feature_barplot('gender', saveimg = True)"
   ]
  },
  {
   "cell_type": "markdown",
   "metadata": {},
   "source": [
    "#### 1.2.6 signup_method\n",
    "注册方式分析"
   ]
  },
  {
   "cell_type": "code",
   "execution_count": 16,
   "metadata": {},
   "outputs": [
    {
     "data": {
      "image/png": "[encoded data removed]",
      "text/plain": [
       "<Figure size 720x360 with 1 Axes>"
      ]
     },
     "metadata": {
      "needs_background": "light"
     },
     "output_type": "display_data"
    }
   ],
   "source": [
    "feature_barplot('signup_method')"
   ]
  },
  {
   "cell_type": "markdown",
   "metadata": {},
   "source": [
    "#### 1.2.7 language\n",
    "使用语言分析，可以发现大部分都是使用英文，但是我的直观感觉是这个特征的用处不会太大。"
   ]
  },
  {
   "cell_type": "code",
   "execution_count": 17,
   "metadata": {},
   "outputs": [
    {
     "data": {
      "image/png": "[encoded data removed]",
      "text/plain": [
       "<Figure size 720x360 with 1 Axes>"
      ]
     },
     "metadata": {
      "needs_background": "light"
     },
     "output_type": "display_data"
    }
   ],
   "source": [
    "feature_barplot('language')"
   ]
  },
  {
   "cell_type": "markdown",
   "metadata": {},
   "source": [
    "#### 1.2.8 affiliate_channel"
   ]
  },
  {
   "cell_type": "code",
   "execution_count": 18,
   "metadata": {},
   "outputs": [
    {
     "data": {
      "image/png": "[encoded data removed]",
      "text/plain": [
       "<Figure size 720x360 with 1 Axes>"
      ]
     },
     "metadata": {
      "needs_background": "light"
     },
     "output_type": "display_data"
    }
   ],
   "source": [
    "feature_barplot('affiliate_channel')"
   ]
  },
  {
   "cell_type": "markdown",
   "metadata": {},
   "source": [
    "#### 1.2.9 first_affiliate_tracked"
   ]
  },
  {
   "cell_type": "code",
   "execution_count": 19,
   "metadata": {},
   "outputs": [
    {
     "data": {
      "image/png": "[encoded data removed]",
      "text/plain": [
       "<Figure size 720x360 with 1 Axes>"
      ]
     },
     "metadata": {
      "needs_background": "light"
     },
     "output_type": "display_data"
    }
   ],
   "source": [
    "feature_barplot('first_affiliate_tracked')"
   ]
  },
  {
   "cell_type": "markdown",
   "metadata": {},
   "source": [
    "#### 1.2.10 signup_app"
   ]
  },
  {
   "cell_type": "code",
   "execution_count": 20,
   "metadata": {},
   "outputs": [
    {
     "data": {
      "image/png": "[encoded data removed]",
      "text/plain": [
       "<Figure size 720x360 with 1 Axes>"
      ]
     },
     "metadata": {
      "needs_background": "light"
     },
     "output_type": "display_data"
    }
   ],
   "source": [
    "feature_barplot('signup_app')"
   ]
  },
  {
   "cell_type": "markdown",
   "metadata": {},
   "source": [
    "#### 1.2.11 first_device_type"
   ]
  },
  {
   "cell_type": "code",
   "execution_count": 21,
   "metadata": {},
   "outputs": [
    {
     "data": {
      "image/png": "[encoded data removed]",
      "text/plain": [
       "<Figure size 720x360 with 1 Axes>"
      ]
     },
     "metadata": {
      "needs_background": "light"
     },
     "output_type": "display_data"
    }
   ],
   "source": [
    "feature_barplot('first_device_type')"
   ]
  },
  {
   "cell_type": "markdown",
   "metadata": {},
   "source": [
    "#### 1.2.12 first_browser"
   ]
  },
  {
   "cell_type": "code",
   "execution_count": 22,
   "metadata": {},
   "outputs": [
    {
     "data": {
      "image/png": "[encoded data removed]",
      "text/plain": [
       "<Figure size 720x360 with 1 Axes>"
      ]
     },
     "metadata": {
      "needs_background": "light"
     },
     "output_type": "display_data"
    }
   ],
   "source": [
    "feature_barplot('first_browser')"
   ]
  },
  {
   "cell_type": "markdown",
   "metadata": {},
   "source": [
    "### 1.3数据分析——session文件\n",
    "我们先将session文件导入，查看前面10行数据"
   ]
  },
  {
   "cell_type": "code",
   "execution_count": 23,
   "metadata": {},
   "outputs": [
    {
     "data": {
      "text/html": [
       "<div>\n",
       "<style scoped>\n",
       "    .dataframe tbody tr th:only-of-type {\n",
       "        vertical-align: middle;\n",
       "    }\n",
       "\n",
       "    .dataframe tbody tr th {\n",
       "        vertical-align: top;\n",
       "    }\n",
       "\n",
       "    .dataframe thead th {\n",
       "        text-align: right;\n",
       "    }\n",
       "</style>\n",
       "<table border=\"1\" class=\"dataframe\">\n",
       "  <thead>\n",
       "    <tr style=\"text-align: right;\">\n",
       "      <th></th>\n",
       "      <th>user_id</th>\n",
       "      <th>action</th>\n",
       "      <th>action_type</th>\n",
       "      <th>action_detail</th>\n",
       "      <th>device_type</th>\n",
       "      <th>secs_elapsed</th>\n",
       "    </tr>\n",
       "  </thead>\n",
       "  <tbody>\n",
       "    <tr>\n",
       "      <th>0</th>\n",
       "      <td>d1mm9tcy42</td>\n",
       "      <td>lookup</td>\n",
       "      <td>NaN</td>\n",
       "      <td>NaN</td>\n",
       "      <td>Windows Desktop</td>\n",
       "      <td>319.0</td>\n",
       "    </tr>\n",
       "    <tr>\n",
       "      <th>1</th>\n",
       "      <td>d1mm9tcy42</td>\n",
       "      <td>search_results</td>\n",
       "      <td>click</td>\n",
       "      <td>view_search_results</td>\n",
       "      <td>Windows Desktop</td>\n",
       "      <td>67753.0</td>\n",
       "    </tr>\n",
       "    <tr>\n",
       "      <th>2</th>\n",
       "      <td>d1mm9tcy42</td>\n",
       "      <td>lookup</td>\n",
       "      <td>NaN</td>\n",
       "      <td>NaN</td>\n",
       "      <td>Windows Desktop</td>\n",
       "      <td>301.0</td>\n",
       "    </tr>\n",
       "    <tr>\n",
       "      <th>3</th>\n",
       "      <td>d1mm9tcy42</td>\n",
       "      <td>search_results</td>\n",
       "      <td>click</td>\n",
       "      <td>view_search_results</td>\n",
       "      <td>Windows Desktop</td>\n",
       "      <td>22141.0</td>\n",
       "    </tr>\n",
       "    <tr>\n",
       "      <th>4</th>\n",
       "      <td>d1mm9tcy42</td>\n",
       "      <td>lookup</td>\n",
       "      <td>NaN</td>\n",
       "      <td>NaN</td>\n",
       "      <td>Windows Desktop</td>\n",
       "      <td>435.0</td>\n",
       "    </tr>\n",
       "    <tr>\n",
       "      <th>5</th>\n",
       "      <td>d1mm9tcy42</td>\n",
       "      <td>search_results</td>\n",
       "      <td>click</td>\n",
       "      <td>view_search_results</td>\n",
       "      <td>Windows Desktop</td>\n",
       "      <td>7703.0</td>\n",
       "    </tr>\n",
       "    <tr>\n",
       "      <th>6</th>\n",
       "      <td>d1mm9tcy42</td>\n",
       "      <td>lookup</td>\n",
       "      <td>NaN</td>\n",
       "      <td>NaN</td>\n",
       "      <td>Windows Desktop</td>\n",
       "      <td>115.0</td>\n",
       "    </tr>\n",
       "    <tr>\n",
       "      <th>7</th>\n",
       "      <td>d1mm9tcy42</td>\n",
       "      <td>personalize</td>\n",
       "      <td>data</td>\n",
       "      <td>wishlist_content_update</td>\n",
       "      <td>Windows Desktop</td>\n",
       "      <td>831.0</td>\n",
       "    </tr>\n",
       "    <tr>\n",
       "      <th>8</th>\n",
       "      <td>d1mm9tcy42</td>\n",
       "      <td>index</td>\n",
       "      <td>view</td>\n",
       "      <td>view_search_results</td>\n",
       "      <td>Windows Desktop</td>\n",
       "      <td>20842.0</td>\n",
       "    </tr>\n",
       "    <tr>\n",
       "      <th>9</th>\n",
       "      <td>d1mm9tcy42</td>\n",
       "      <td>lookup</td>\n",
       "      <td>NaN</td>\n",
       "      <td>NaN</td>\n",
       "      <td>Windows Desktop</td>\n",
       "      <td>683.0</td>\n",
       "    </tr>\n",
       "  </tbody>\n",
       "</table>\n",
       "</div>"
      ],
      "text/plain": [
       "      user_id          action action_type            action_detail  \\\n",
       "0  d1mm9tcy42          lookup         NaN                      NaN   \n",
       "1  d1mm9tcy42  search_results       click      view_search_results   \n",
       "2  d1mm9tcy42          lookup         NaN                      NaN   \n",
       "3  d1mm9tcy42  search_results       click      view_search_results   \n",
       "4  d1mm9tcy42          lookup         NaN                      NaN   \n",
       "5  d1mm9tcy42  search_results       click      view_search_results   \n",
       "6  d1mm9tcy42          lookup         NaN                      NaN   \n",
       "7  d1mm9tcy42     personalize        data  wishlist_content_update   \n",
       "8  d1mm9tcy42           index        view      view_search_results   \n",
       "9  d1mm9tcy42          lookup         NaN                      NaN   \n",
       "\n",
       "       device_type  secs_elapsed  \n",
       "0  Windows Desktop         319.0  \n",
       "1  Windows Desktop       67753.0  \n",
       "2  Windows Desktop         301.0  \n",
       "3  Windows Desktop       22141.0  \n",
       "4  Windows Desktop         435.0  \n",
       "5  Windows Desktop        7703.0  \n",
       "6  Windows Desktop         115.0  \n",
       "7  Windows Desktop         831.0  \n",
       "8  Windows Desktop       20842.0  \n",
       "9  Windows Desktop         683.0  "
      ]
     },
     "execution_count": 23,
     "metadata": {},
     "output_type": "execute_result"
    }
   ],
   "source": [
    "df_sessions = pd.read_csv('./Data/sessions.csv')\n",
    "df_sessions.head(10)"
   ]
  },
  {
   "cell_type": "markdown",
   "metadata": {},
   "source": [
    "#### 1.3.1关联id\n",
    "在这里我们可以发现一共有6个特征，且user_id与train中的id是关联的。因此我们首先考虑的操作是将user_id改名为id\n",
    "\n",
    "----\n",
    "\n",
    "**用到的方法**\n",
    "**DataFrame.drop(labels=None,axis=0, index=None, columns=None, inplace=False)**\n",
    "\n",
    "**axis=0，指删除index，因此删除columns时要指定axis=1**"
   ]
  },
  {
   "cell_type": "code",
   "execution_count": 24,
   "metadata": {
    "scrolled": true
   },
   "outputs": [],
   "source": [
    "#在数据集最后创建一列——id。将user_id的值按照位置复制到id中。\n",
    "df_sessions['id'] = df_sessions['user_id']\n",
    "#删除user_id这一列。\n",
    "df_sessions = df_sessions.drop(['user_id'],axis = 1)"
   ]
  },
  {
   "cell_type": "markdown",
   "metadata": {},
   "source": [
    "然后我们查看sessions中的缺失值，我们可以看到action，action_type，action_detail， secs_elapsed缺失值较多。\n",
    "而为了后续统计方便，我们将这几个特征进行缺失值填充。"
   ]
  },
  {
   "cell_type": "code",
   "execution_count": 25,
   "metadata": {},
   "outputs": [
    {
     "data": {
      "text/plain": [
       "action                0\n",
       "action_type           0\n",
       "action_detail         0\n",
       "device_type           0\n",
       "secs_elapsed     136031\n",
       "id                34496\n",
       "dtype: int64"
      ]
     },
     "execution_count": 25,
     "metadata": {},
     "output_type": "execute_result"
    }
   ],
   "source": [
    "df_sessions.isnull().sum()\n",
    "df_sessions.action = df_sessions.action.fillna('NAN')\n",
    "df_sessions.action_type = df_sessions.action_type.fillna('NAN')\n",
    "df_sessions.action_detail = df_sessions.action_detail.fillna('NAN')\n",
    "df_sessions.isnull().sum()"
   ]
  },
  {
   "cell_type": "markdown",
   "metadata": {},
   "source": [
    "### 1.4特征提取\n",
    "在对数据大致了解之后，我们开始进行特征提取。\n",
    "\n",
    "#### 1.4.1对sessions文件特征提取\n",
    "\n",
    "----\n",
    "\n",
    "**使用到的方法**\n",
    "**（1）action**\n",
    "首先我们将action特征的相关信息查看统计一下,但是因为数据过多，我们只显示前10行。\n",
    "为了有个大致的估计我们同事也看看action最小值。发现为1."
   ]
  },
  {
   "cell_type": "code",
   "execution_count": 26,
   "metadata": {},
   "outputs": [
    {
     "data": {
      "text/plain": [
       "show                     2768278\n",
       "index                     843699\n",
       "search_results            725226\n",
       "personalize               706824\n",
       "search                    536057\n",
       "ajax_refresh_subtotal     487744\n",
       "update                    365130\n",
       "similar_listings          364624\n",
       "social_connections        339000\n",
       "reviews                   320591\n",
       "Name: action, dtype: int64"
      ]
     },
     "execution_count": 26,
     "metadata": {},
     "output_type": "execute_result"
    }
   ],
   "source": [
    "df_sessions.action.value_counts().head(10)\n",
    "# df_sessions.action.value_counts().min()"
   ]
  },
  {
   "cell_type": "markdown",
   "metadata": {},
   "source": [
    "根据上面的统计我们可以看到,action具有多种,且最少发生次数只有1,那么我们可以尝试将用户发生次数较少的行为action归为other一类.\n",
    "\n",
    "----\n",
    "\n",
    "**1、zip()**\n",
    "**zip() 函数用于将可迭代的对象作为参数，将对象中对应的元素打包成一个个元组，然后返回由这些元组组成的列表。**\n",
    "\n",
    "**如果各个迭代器的元素个数不一致，则返回列表长度与最短的对象相同，利用 * 号操作符，可以将元组解压为列表。**\n",
    "\n",
    "**2、np.unique(ar, return_index=False, return_inverse=False, return_counts=False,axis=None)**\n",
    "\n",
    "\n",
    "\n",
    "\n"
   ]
  },
  {
   "cell_type": "code",
   "execution_count": 27,
   "metadata": {
    "scrolled": true
   },
   "outputs": [],
   "source": [
    "#将较低次数的action值归类为‘other’\n",
    "act_freq = 100\n",
    "act = dict(zip(*np.unique(df_sessions.action,return_counts = True)))\n",
    "df_sessions.action = df_sessions.action.apply(lambda x: 'OTHER' if act[x] < act_freq else x)\n",
    "#np.unique(df_sessions.action,return_counts=True)"
   ]
  },
  {
   "cell_type": "markdown",
   "metadata": {},
   "source": [
    "在处理完成action的数据分类之后，接下来对action_detail，action_type，device_type，secs_elapsed进行细化。\n",
    "—首先将用户的特征根据用户id进行分组。\n",
    "- 特征action：统计每个用户总的action出现的次数，各个action类型的数量，平均值以及标准差 \n",
    "- 特征action_detail：统计每个用户总的action_detail出现的次数，各个action_detail类型的数量，平均值以及标准差 \n",
    "- 特征action_type：统计每个用户总的action_type出现的次数，各个action_type类型的数量，平均值，标准差以及总的停留时长（进行log处理） \n",
    "- 特征device_type：统计每个用户总的device_type出现的次数，各个device_type类型的数量，平均值以及标准差 \n",
    "- 特征secs_elapsed：对缺失值用0填充，统计每个用户secs_elapsed时间的总和，平均值，标准差以及中位数（进行log处理），（总和/平均数），secs_elapsed（log处理后）各个时间出现的次数"
   ]
  },
  {
   "cell_type": "code",
   "execution_count": null,
   "metadata": {},
   "outputs": [],
   "source": [
    "#对action特征进行细化\n",
    "f_act = df_sessions.action.value_counts().argsort()\n",
    "f_act_detail = df_sessions.action_detail.value_counts().argsort()\n",
    "f_act_type = df_sessions.action_type.value_counts().argsort()\n",
    "f_dev_type = df_sessions.device_type.value_counts().argsort()\n",
    "\n",
    "#按照id进行分组\n",
    "dgr_sess = df_sessions.groupby(['id'])\n",
    "#Loop on dgr_sess to create all the features.\n",
    "samples = [] #samples列表\n",
    "ln = len(dgr_sess) #计算分组后df_sessions的长度\n",
    "\n",
    "for g in dgr_sess:  #对dgr_sess中每个id的数据进行遍历\n",
    "    gr = g[1]   #data frame that comtains all the data for a groupby value 'zzywmcn0jv'\n",
    "\n",
    "    l = []  #建一个空列表，临时存放特征\n",
    "\n",
    "    #the id    for example:'zzywmcn0jv'\n",
    "    l.append(g[0]) #将id值放入空列表中\n",
    "\n",
    "    # number of total actions\n",
    "    l.append(len(gr))#将id对应数据的长度放入列表\n",
    "\n",
    "    #secs_elapsed 特征中的缺失值用0填充再获取具体的停留时长值\n",
    "    sev = gr.secs_elapsed.fillna(0).values   #These values are used later.\n",
    "\n",
    "    #action features 特征-用户行为 \n",
    "    #每个用户行为出现的次数，各个行为类型的数量，平均值以及标准差\n",
    "    c_act = [0] * len(f_act)\n",
    "    for i,v in enumerate(gr.action.values): #i是从0-1对应的位置，v 是用户行为特征的值\n",
    "        c_act[f_act[v]] += 1\n",
    "    _, c_act_uqc = np.unique(gr.action.values, return_counts=True)\n",
    "    #计算用户行为行为特征各个类型数量的长度，平均值以及标准差\n",
    "    c_act += [len(c_act_uqc), np.mean(c_act_uqc), np.std(c_act_uqc)]\n",
    "    l = l + c_act\n",
    "\n",
    "    #action_detail features 特征-用户行为具体\n",
    "    #(how many times each value occurs, numb of unique values, mean and std)\n",
    "    c_act_detail = [0] * len(f_act_detail)\n",
    "    for i,v in enumerate(gr.action_detail.values):\n",
    "        c_act_detail[f_act_detail[v]] += 1\n",
    "    _, c_act_det_uqc = np.unique(gr.action_detail.values, return_counts=True)\n",
    "    c_act_detail += [len(c_act_det_uqc), np.mean(c_act_det_uqc), np.std(c_act_det_uqc)]\n",
    "    l = l + c_act_detail\n",
    "\n",
    "    #action_type features  特征-用户行为类型 click等\n",
    "    #(how many times each value occurs, numb of unique values, mean and std\n",
    "    #+ log of the sum of secs_elapsed for each value)\n",
    "    l_act_type = [0] * len(f_act_type)\n",
    "    c_act_type = [0] * len(f_act_type)\n",
    "    for i,v in enumerate(gr.action_type.values):\n",
    "        l_act_type[f_act_type[v]] += sev[i] #sev = gr.secs_elapsed.fillna(0).values ，求每个行为类型总的停留时长\n",
    "        c_act_type[f_act_type[v]] += 1  \n",
    "    l_act_type = np.log(1 + np.array(l_act_type)).tolist() #每个行为类型总的停留时长，差异比较大，进行log处理\n",
    "    _, c_act_type_uqc = np.unique(gr.action_type.values, return_counts=True)\n",
    "    c_act_type += [len(c_act_type_uqc), np.mean(c_act_type_uqc), np.std(c_act_type_uqc)]\n",
    "    l = l + c_act_type + l_act_type    \n",
    "\n",
    "    #device_type features 特征-设备类型\n",
    "    #(how many times each value occurs, numb of unique values, mean and std)\n",
    "    c_dev_type  = [0] * len(f_dev_type)\n",
    "    for i,v in enumerate(gr.device_type .values):\n",
    "        c_dev_type[f_dev_type[v]] += 1 \n",
    "    c_dev_type.append(len(np.unique(gr.device_type.values))) \n",
    "    _, c_dev_type_uqc = np.unique(gr.device_type.values, return_counts=True)\n",
    "    c_dev_type += [len(c_dev_type_uqc), np.mean(c_dev_type_uqc), np.std(c_dev_type_uqc)]        \n",
    "    l = l + c_dev_type    \n",
    "\n",
    "    #secs_elapsed features  特征-停留时长     \n",
    "    l_secs = [0] * 5 \n",
    "    l_log = [0] * 15\n",
    "    if len(sev) > 0:\n",
    "        #Simple statistics about the secs_elapsed values.\n",
    "        l_secs[0] = np.log(1 + np.sum(sev))\n",
    "        l_secs[1] = np.log(1 + np.mean(sev)) \n",
    "        l_secs[2] = np.log(1 + np.std(sev))\n",
    "        l_secs[3] = np.log(1 + np.median(sev))\n",
    "        l_secs[4] = l_secs[0] / float(l[1]) #\n",
    "\n",
    "        #Values are grouped in 15 intervals. Compute the number of values\n",
    "        #in each interval.\n",
    "        #sev = gr.secs_elapsed.fillna(0).values \n",
    "        log_sev = np.log(1 + sev).astype(int)\n",
    "        #np.bincount():Count number of occurrences of each value in array of non-negative ints.  \n",
    "        l_log = np.bincount(log_sev, minlength=15).tolist()                    \n",
    "    l = l + l_secs + l_log\n",
    "\n",
    "    #The list l has the feature values of one sample.\n",
    "    samples.append(l)\n",
    "\n",
    "#preparing objects    \n",
    "samples = np.array(samples) \n",
    "samp_ar = samples[:, 1:].astype(np.float16) #取除id外的特征数据\n",
    "samp_id = samples[:, 0]   #取id，id位于第一列\n",
    "\n",
    "#为提取的特征创建一个dataframe     \n",
    "col_names = []    #name of the columns\n",
    "for i in range(len(samples[0])-1):  #减1的原因是因为有个id\n",
    "    col_names.append('c_' + str(i))  #起名字的方式    \n",
    "df_agg_sess = pd.DataFrame(samp_ar, columns=col_names)\n",
    "df_agg_sess['id'] = samp_id\n",
    "df_agg_sess.index = df_agg_sess.id #将id作为index"
   ]
  },
  {
   "cell_type": "code",
   "execution_count": null,
   "metadata": {},
   "outputs": [],
   "source": [
    "df_agg_sess.head()"
   ]
  },
  {
   "cell_type": "markdown",
   "metadata": {},
   "source": [
    "分析：经过特征提取后，session文件由6个特征变为458个特征\n",
    "#### 1.4.2 对trian和test文件进行特征提取\n",
    "**标记train文件的行数和存储我们进行预测的目标变量**\n",
    "- labels存储了我们进行预测的目标变量country_destination"
   ]
  },
  {
   "cell_type": "code",
   "execution_count": null,
   "metadata": {},
   "outputs": [],
   "source": [
    "train = pd.read_csv(\"./Data/train_users_2.csv\")\n",
    "test = pd.read_csv(\"./Data/test_users.csv\")\n",
    "#计算出train的行数，便于之后对train和test数据进行分离操作\n",
    "train_row = train.shape[0]  \n",
    "\n",
    "# The label we need to predict\n",
    "labels = train['country_destination'].values"
   ]
  },
  {
   "cell_type": "markdown",
   "metadata": {},
   "source": [
    "**删除date_first_booking和train文件中的country_destination**\n",
    "- 数据探索时我们发现date_first_booking在train和test文件中缺失值太多，故删除 \n",
    "- 删除country_destination，用模型预测country_destination，再与已经存储country_destination的labels进行比较，从而判断模型优劣"
   ]
  },
  {
   "cell_type": "code",
   "execution_count": 35,
   "metadata": {},
   "outputs": [],
   "source": [
    "train.drop(['country_destination', 'date_first_booking'], axis = 1, inplace = True)\n",
    "test.drop(['date_first_booking'], axis = 1, inplace = True)"
   ]
  },
  {
   "cell_type": "markdown",
   "metadata": {},
   "source": [
    "合并train和test文件 \n",
    "- 便于进行相同的特征提取操作"
   ]
  },
  {
   "cell_type": "code",
   "execution_count": 36,
   "metadata": {},
   "outputs": [],
   "source": [
    "#连接test 和 train\n",
    "df = pd.concat([train, test], axis = 0, ignore_index = True)"
   ]
  },
  {
   "cell_type": "markdown",
   "metadata": {},
   "source": [
    "**1.timestamp_first_active**\n",
    "\n",
    "1.1转换为datetime类型"
   ]
  },
  {
   "cell_type": "code",
   "execution_count": 37,
   "metadata": {},
   "outputs": [],
   "source": [
    "tfa = df.timestamp_first_active.astype(str).apply(lambda x: datetime.datetime(int(x[:4]),\n",
    "                                                                          int(x[4:6]), \n",
    "                                                                          int(x[6:8]),\n",
    "                                                                          int(x[8:10]),\n",
    "                                                                          int(x[10:12]),\n",
    "                                                                          int(x[12:])))"
   ]
  },
  {
   "cell_type": "markdown",
   "metadata": {},
   "source": [
    "1.2 提取特征：年，月，日"
   ]
  },
  {
   "cell_type": "code",
   "execution_count": 38,
   "metadata": {},
   "outputs": [],
   "source": [
    "# create tfa_year, tfa_month, tfa_day feature\n",
    "df['tfa_year'] = np.array([x.year for x in tfa])\n",
    "df['tfa_month'] = np.array([x.month for x in tfa])\n",
    "df['tfa_day'] = np.array([x.day for x in tfa])"
   ]
  },
  {
   "cell_type": "markdown",
   "metadata": {},
   "source": [
    "1.3 提取特征：weekday \n",
    "- 对结果进行one hot encoding编码"
   ]
  },
  {
   "cell_type": "code",
   "execution_count": 39,
   "metadata": {},
   "outputs": [],
   "source": [
    "#isoweekday() 可以返回一周的星期几，e.g.星期日：0；星期一：1\n",
    "df['tfa_wd'] = np.array([x.isoweekday() for x in tfa]) \n",
    "df_tfa_wd = pd.get_dummies(df.tfa_wd, prefix = 'tfa_wd')  # one hot encoding \n",
    "df = pd.concat((df, df_tfa_wd), axis = 1) #添加df['tfa_wd'] 编码后的特征\n",
    "df.drop(['tfa_wd'], axis = 1, inplace = True)#删除原有未编码的特征"
   ]
  },
  {
   "cell_type": "markdown",
   "metadata": {},
   "source": [
    "1.4 提取特征：季节 \n",
    "- 因为判断季节关注的是月份，故对年份进行统一"
   ]
  },
  {
   "cell_type": "code",
   "execution_count": 55,
   "metadata": {},
   "outputs": [],
   "source": [
    "Y = 2000\n",
    "seasons = [(0, (date(Y,  1,  1),  date(Y,  3, 20))),  #'winter'\n",
    "           (1, (date(Y,  3, 21),  date(Y,  6, 20))),  #'spring'\n",
    "           (2, (date(Y,  6, 21),  date(Y,  9, 22))),  #'summer'\n",
    "           (3, (date(Y,  9, 23),  date(Y, 12, 20))),  #'autumn'\n",
    "           (0, (date(Y, 12, 21),  date(Y, 12, 31)))]  #'winter'\n",
    "\n",
    "def get_season(dt):\n",
    "    dt = dt.date() #获取日期\n",
    "    dt = dt.replace(year=Y) #将年统一换成2000年\n",
    "    return next(season for season, (start, end) in seasons if start <= dt <= end)\n",
    "\n",
    "df['tfa_season'] = np.array([get_season(x) for x in tfa])\n",
    "df_tfa_season = pd.get_dummies(df.tfa_season, prefix = 'tfa_season') # one hot encoding \n",
    "df = pd.concat((df, df_tfa_season), axis = 1)\n",
    "df.drop(['tfa_season'], axis = 1, inplace = True)"
   ]
  },
  {
   "cell_type": "markdown",
   "metadata": {},
   "source": [
    "**2. date_account_created**\n",
    "\n",
    "2.1 将date_account_created转换为datetime类型"
   ]
  },
  {
   "cell_type": "code",
   "execution_count": 56,
   "metadata": {},
   "outputs": [],
   "source": [
    "dac = pd.to_datetime(df.date_account_created)"
   ]
  },
  {
   "cell_type": "markdown",
   "metadata": {},
   "source": [
    "2.2 提取特征：年，月，日"
   ]
  },
  {
   "cell_type": "code",
   "execution_count": 57,
   "metadata": {},
   "outputs": [],
   "source": [
    "# create year, month, day feature for dac\n",
    "df['dac_year'] = np.array([x.year for x in dac])\n",
    "df['dac_month'] = np.array([x.month for x in dac])\n",
    "df['dac_day'] = np.array([x.day for x in dac])"
   ]
  },
  {
   "cell_type": "markdown",
   "metadata": {},
   "source": [
    "2.3 提取特征：weekday"
   ]
  },
  {
   "cell_type": "code",
   "execution_count": 58,
   "metadata": {},
   "outputs": [],
   "source": [
    "# create features of weekday for dac\n",
    "\n",
    "df['dac_wd'] = np.array([x.isoweekday() for x in dac])\n",
    "df_dac_wd = pd.get_dummies(df.dac_wd, prefix = 'dac_wd')\n",
    "df = pd.concat((df, df_dac_wd), axis = 1)\n",
    "df.drop(['dac_wd'], axis = 1, inplace = True)"
   ]
  },
  {
   "cell_type": "markdown",
   "metadata": {},
   "source": [
    "2.4 提取特征：季节"
   ]
  },
  {
   "cell_type": "code",
   "execution_count": 59,
   "metadata": {},
   "outputs": [],
   "source": [
    "# create season features fro dac\n",
    "df['dac_season'] = np.array([get_season(x) for x in dac])\n",
    "df_dac_season = pd.get_dummies(df.dac_season, prefix = 'dac_season')\n",
    "df = pd.concat((df, df_dac_season), axis = 1)\n",
    "df.drop(['dac_season'], axis = 1, inplace = True)"
   ]
  },
  {
   "cell_type": "markdown",
   "metadata": {},
   "source": [
    "2.5提取特征：date_account_created和timestamp_first_active之间的差值 \n",
    "- 即用户在airbnb平台活跃到正式注册所花的时间"
   ]
  },
  {
   "cell_type": "code",
   "execution_count": 60,
   "metadata": {},
   "outputs": [],
   "source": [
    "dt_span = dac.subtract(tfa).dt.days "
   ]
  },
  {
   "cell_type": "code",
   "execution_count": 61,
   "metadata": {},
   "outputs": [
    {
     "data": {
      "text/plain": [
       "-1     275369\n",
       " 0          7\n",
       " 6          4\n",
       " 5          4\n",
       " 1          4\n",
       " 2          3\n",
       " 3          3\n",
       " 4          3\n",
       " 28         3\n",
       " 94         2\n",
       "dtype: int64"
      ]
     },
     "execution_count": 61,
     "metadata": {},
     "output_type": "execute_result"
    }
   ],
   "source": [
    "dt_span.value_counts().head(10)"
   ]
  },
  {
   "cell_type": "markdown",
   "metadata": {},
   "source": [
    "分析：数据主要集中在-1，可以猜测，用户当天注册dt_span值便是-1 \n",
    "- 从差值提取特征：差值为一天，一月，一年和其他 \n",
    "- 即用户活跃到注册花费的时间为一天，一月，一年或其他\n"
   ]
  },
  {
   "cell_type": "code",
   "execution_count": 62,
   "metadata": {},
   "outputs": [],
   "source": [
    "# create categorical feature: span = -1; -1 < span < 30; 31 < span < 365; span > 365\n",
    "def get_span(dt):\n",
    "    # dt is an integer\n",
    "    if dt == -1:\n",
    "        return 'OneDay'\n",
    "    elif (dt < 30) & (dt > -1):\n",
    "        return 'OneMonth'\n",
    "    elif (dt >= 30) & (dt <= 365):\n",
    "        return 'OneYear'\n",
    "    else:\n",
    "        return 'other'\n",
    "\n",
    "df['dt_span'] = np.array([get_span(x) for x in dt_span])\n",
    "df_dt_span = pd.get_dummies(df.dt_span, prefix = 'dt_span')\n",
    "df = pd.concat((df, df_dt_span), axis = 1)\n",
    "df.drop(['dt_span'], axis = 1, inplace = True)"
   ]
  },
  {
   "cell_type": "markdown",
   "metadata": {},
   "source": [
    "2.6 删除原有的特征 \n",
    "- 对timestamp_first_active，date_account_created进行特征提取后，从特征列表中删除原有的特征"
   ]
  },
  {
   "cell_type": "code",
   "execution_count": 63,
   "metadata": {},
   "outputs": [],
   "source": [
    "df.drop(['date_account_created','timestamp_first_active'], axis = 1, inplace = True)"
   ]
  },
  {
   "cell_type": "markdown",
   "metadata": {},
   "source": [
    "**3. age**"
   ]
  },
  {
   "cell_type": "code",
   "execution_count": 64,
   "metadata": {},
   "outputs": [],
   "source": [
    "#Age 获取年龄\n",
    "av = df.age.values"
   ]
  },
  {
   "cell_type": "markdown",
   "metadata": {},
   "source": [
    "在数据探索阶段，我们发现大部分数据是集中在（15，90）区间的，但有部分年龄分布在（1900，2000）区间，我们猜测用户是把出生日期误填为年龄，故进行预处理"
   ]
  },
  {
   "cell_type": "code",
   "execution_count": null,
   "metadata": {},
   "outputs": [],
   "source": [
    "#数据来自2014年，故用2014-value\n",
    "av = np.where(np.logical_and(av<2000, av>1900), 2014-av, av) \n",
    "df['age'] = av"
   ]
  },
  {
   "cell_type": "code",
   "execution_count": null,
   "metadata": {},
   "outputs": [],
   "source": []
  },
  {
   "cell_type": "code",
   "execution_count": null,
   "metadata": {},
   "outputs": [],
   "source": [
    "# Age has many abnormal values that we need to deal with. \n",
    "age = df.age\n",
    "age.fillna(-1, inplace = True) #空值填充为-1\n",
    "div = 15\n",
    "def get_age(age):\n",
    "    # age is a float number  将连续型转换为离散型\n",
    "    if age < 0:\n",
    "        return 'NA' #表示是空值\n",
    "    elif (age < div):\n",
    "        return div #如果年龄小于15岁，那么返回15岁\n",
    "    elif (age <= div * 2):\n",
    "        return div*2 #如果年龄大于15小于等于30岁，则返回30岁\n",
    "    elif (age <= div * 3):\n",
    "        return div * 3\n",
    "    elif (age <= div * 4):\n",
    "        return div * 4\n",
    "    elif (age <= div * 5):\n",
    "        return div * 5\n",
    "    elif (age <= 110):\n",
    "        return div * 6\n",
    "    else:\n",
    "        return 'Unphysical' #非正常年龄"
   ]
  },
  {
   "cell_type": "code",
   "execution_count": null,
   "metadata": {},
   "outputs": [],
   "source": [
    "df['age'] = np.array([get_age(x) for x in age])\n",
    "df_age = pd.get_dummies(df.age, prefix = 'age')\n",
    "df = pd.concat((df, df_age), axis = 1)\n",
    "df.drop(['age'], axis = 1, inplace = True)"
   ]
  },
  {
   "cell_type": "markdown",
   "metadata": {},
   "source": [
    "4. 其他特征 \n",
    "\n",
    "    - 在数据探索时，我们发现剩余的特征lables都比较少，故不进一步进行特征提取，只进行one-hot-encoding处理"
   ]
  },
  {
   "cell_type": "code",
   "execution_count": null,
   "metadata": {},
   "outputs": [],
   "source": [
    "feat_toOHE = ['gender', \n",
    "             'signup_method', \n",
    "             'signup_flow', \n",
    "             'language', \n",
    "             'affiliate_channel', \n",
    "             'affiliate_provider', \n",
    "             'first_affiliate_tracked', \n",
    "             'signup_app', \n",
    "             'first_device_type', \n",
    "             'first_browser']\n",
    "#对其他特征进行one-hot-encoding处理\n",
    "for f in feat_toOHE:\n",
    "    df_ohe = pd.get_dummies(df[f], prefix=f, dummy_na=True)\n",
    "    df.drop([f], axis = 1, inplace = True)\n",
    "    df = pd.concat((df, df_ohe), axis = 1)"
   ]
  },
  {
   "cell_type": "markdown",
   "metadata": {},
   "source": [
    "1.4.3 整合提取的所有特征\n",
    "\n",
    "我们将对session以及train，test文件中提取的特征进行合并"
   ]
  },
  {
   "cell_type": "code",
   "execution_count": null,
   "metadata": {},
   "outputs": [],
   "source": [
    "#将对session提取的特征整合到一起\n",
    "df_all = pd.merge(df, df_agg_sess, how='left')\n",
    "df_all = df_all.drop(['id'], axis=1) #删除id\n",
    "df_all = df_all.fillna(-2)  #对没有sesssion data的特征进行缺失值处理\n",
    "\n",
    "#加了一列，表示每一行总共有多少空值，这也作为一个特征\n",
    "df_all['all_null'] = np.array([sum(r<0) for r in df_all.values]) "
   ]
  },
  {
   "cell_type": "markdown",
   "metadata": {},
   "source": [
    "#### 2.模型构建\n",
    "##### 2.1 数据准备\n",
    "2.1.1. 将train和test数据进行分离操作 \n",
    "- train_row是之前记录的train数据行数\n",
    "- 将提取的特征生成csv文件，并读取"
   ]
  },
  {
   "cell_type": "code",
   "execution_count": null,
   "metadata": {},
   "outputs": [],
   "source": [
    "Xtrain = df_all.iloc[:train_row, :]\n",
    "Xtest = df_all.iloc[train_row:, :]\n",
    "Xtrain.to_csv(\"Airbnb_xtrain_v2.csv\")\n",
    "Xtest.to_csv(\"Airbnb_xtest_v2.csv\")\n",
    "#labels.tofile（）：Write array to a file as text or binary (default)\n",
    "labels.tofile(\"Airbnb_ytrain_v2.csv\", sep='\\n', format='%s') #存放目标变量\n",
    "xtrain = pd.read_csv(\"Airbnb_xtrain_v2.csv\",index_col=0)\n",
    "ytrain = pd.read_csv(\"Airbnb_ytrain_v2.csv\", header=None)\n",
    "xtrain.head()\n",
    "ytrain.head()"
   ]
  },
  {
   "cell_type": "markdown",
   "metadata": {},
   "source": [
    "分析：可以发现经过特征提取后特征文件xtrain扩展为665个特征，ytrain中包含训练集中的目标变量 "
   ]
  },
  {
   "cell_type": "markdown",
   "metadata": {},
   "source": [
    "2.1.2 将目标变量进行labels encoding"
   ]
  },
  {
   "cell_type": "code",
   "execution_count": null,
   "metadata": {},
   "outputs": [],
   "source": [
    "le = LabelEncoder()\n",
    "ytrain_le = le.fit_transform(ytrain.values)"
   ]
  },
  {
   "cell_type": "markdown",
   "metadata": {},
   "source": [
    "2.1.3 提取10%的数据进行模型训练 \n",
    "- 减少训练模型花费的时间"
   ]
  },
  {
   "cell_type": "code",
   "execution_count": null,
   "metadata": {},
   "outputs": [],
   "source": [
    "# Let us take 10% of the data for faster training. \n",
    "n = int(xtrain.shape[0]*0.1)\n",
    "xtrain_new = xtrain.iloc[:n, :]  #训练数据\n",
    "ytrain_new = ytrain_le[:n]       #训练数据的目标变量\n",
    "X_scaler = StandardScaler()\n",
    "xtrain_new = X_scaler.fit_transform(xtrain_new)"
   ]
  },
  {
   "cell_type": "markdown",
   "metadata": {},
   "source": [
    "**2.2 评分模型：NDCG**\n",
    "- NDCG是一种衡量排序质量的评价指标，该指标考虑了所有元素的相关性\n",
    "- 由于我们预测的目标变量并不是二分类变量，故我们用NDGG模型来进行模型评分，判断模型优劣\n",
    "- 一般二分类变量: 我们习惯于使用 f1 score, precision, recall, auc score来进行模型评分"
   ]
  },
  {
   "cell_type": "code",
   "execution_count": null,
   "metadata": {},
   "outputs": [],
   "source": [
    "from sklearn.metrics import make_scorer\n",
    "\n",
    "def dcg_score(y_true, y_score, k=5):\n",
    "\n",
    "    \"\"\"\n",
    "    y_true : array, shape = [n_samples] #数据\n",
    "        Ground truth (true relevance labels).\n",
    "    y_score : array, shape = [n_samples, n_classes] #预测的分数\n",
    "        Predicted scores.\n",
    "    k : int\n",
    "    \"\"\"\n",
    "    order = np.argsort(y_score)[::-1] #分数从高到低排序\n",
    "    y_true = np.take(y_true, order[:k]) #取出前k[0,k）个分数\n",
    "\n",
    "    gain = 2 ** y_true - 1   \n",
    "\n",
    "    discounts = np.log2(np.arange(len(y_true)) + 2)\n",
    "    return np.sum(gain / discounts)\n",
    "\n",
    "\n",
    "def ndcg_score(ground_truth, predictions, k=5):   \n",
    "\n",
    "    \"\"\"\n",
    "    Parameters\n",
    "    ----------\n",
    "    ground_truth : array, shape = [n_samples]\n",
    "        Ground truth (true labels represended as integers).\n",
    "    predictions : array, shape = [n_samples, n_classes] \n",
    "        Predicted probabilities. 预测的概率\n",
    "    k : int\n",
    "        Rank.\n",
    "    \"\"\"\n",
    "    lb = LabelBinarizer()\n",
    "    lb.fit(range(len(predictions) + 1))\n",
    "    T = lb.transform(ground_truth)    \n",
    "    scores = []\n",
    "    # Iterate over each y_true and compute the DCG score\n",
    "    for y_true, y_score in zip(T, predictions):\n",
    "        actual = dcg_score(y_true, y_score, k)\n",
    "        best = dcg_score(y_true, y_true, k)\n",
    "        score = float(actual) / float(best)\n",
    "        scores.append(score)\n",
    "\n",
    "    return np.mean(scores)"
   ]
  },
  {
   "cell_type": "markdown",
   "metadata": {},
   "source": [
    "#### 3构建模型\n",
    "##### 3.1 Logistic Regression"
   ]
  },
  {
   "cell_type": "code",
   "execution_count": null,
   "metadata": {},
   "outputs": [],
   "source": [
    "from sklearn.linear_model import LogisticRegression\n",
    "from sklearn.model_selection import KFold\n",
    "from sklearn.model_selection import cross_val_score\n",
    "from sklearn.model_selection import train_test_split\n",
    "lr = LogisticRegression(C = 1.0, penalty='l2', multi_class='ovr')\n",
    "RANDOM_STATE = 2017  #随机种子\n",
    "\n",
    "#k-fold cross validation（k-折叠交叉验证）\n",
    "kf = KFold(n_splits=5, random_state=RANDOM_STATE) #分成5个组\n",
    "train_score = [] \n",
    "cv_score = []\n",
    "\n",
    "# select a k  (value how many y):\n",
    "k_ndcg = 3 \n",
    "# kf.split: Generate indices to split data into training and test set.\n",
    "for train_index, test_index in kf.split(xtrain_new, ytrain_new):\n",
    "    #训练集数据分割为训练集和测试集，y是目标变量\n",
    "    X_train, X_test = xtrain_new[train_index, :], xtrain_new[test_index, :]\n",
    "    y_train, y_test = ytrain_new[train_index], ytrain_new[test_index]\n",
    "\n",
    "    lr.fit(X_train, y_train)\n",
    "\n",
    "    y_pred = lr.predict_proba(X_test)\n",
    "    train_ndcg_score = ndcg_score(y_train, lr.predict_proba(X_train), k = k_ndcg)\n",
    "    cv_ndcg_score = ndcg_score(y_test, y_pred, k=k_ndcg)\n",
    "\n",
    "    train_score.append(train_ndcg_score)\n",
    "    cv_score.append(cv_ndcg_score)\n",
    "\n",
    "print (\"\\nThe training score is: {}\".format(np.mean(train_score)))\n",
    "print (\"\\nThe cv score is: {}\".format(np.mean(cv_score)))"
   ]
  },
  {
   "cell_type": "code",
   "execution_count": null,
   "metadata": {},
   "outputs": [],
   "source": [
    "改变逻辑回归参数iteration"
   ]
  },
  {
   "cell_type": "code",
   "execution_count": null,
   "metadata": {},
   "outputs": [],
   "source": [
    "# set the iterations\n",
    "iteration = [1,5,10,15,20, 50, 100]\n",
    "\n",
    "kf = KFold(n_splits=3, random_state=RANDOM_STATE)\n",
    "\n",
    "train_score = []\n",
    "cv_score = []\n",
    "\n",
    "# select a k:\n",
    "k_ndcg = 5\n",
    "\n",
    "for i, item in enumerate(iteration): \n",
    "\n",
    "    lr = LogisticRegression(C=1.0, max_iter=item, tol=1e-5, solver='newton-cg', multi_class='ovr') \n",
    "    train_score_iter = []\n",
    "    cv_score_iter = []\n",
    "\n",
    "    for train_index, test_index in kf.split(xtrain_new, ytrain_new):\n",
    "        X_train, X_test = xtrain_new[train_index, :], xtrain_new[test_index, :]\n",
    "        y_train, y_test = ytrain_new[train_index], ytrain_new[test_index]\n",
    "\n",
    "        lr.fit(X_train, y_train)\n",
    "\n",
    "        y_pred = lr.predict_proba(X_test)\n",
    "        train_ndcg_score = ndcg_score(y_train, lr.predict_proba(X_train), k = k_ndcg)\n",
    "        cv_ndcg_score = ndcg_score(y_test, y_pred, k=k_ndcg)\n",
    "\n",
    "\n",
    "        train_score_iter.append(train_ndcg_score)\n",
    "        cv_score_iter.append(cv_ndcg_score)\n",
    "\n",
    "    train_score.append(np.mean(train_score_iter))\n",
    "    cv_score.append(np.mean(cv_score_iter))\n",
    "\n",
    "ymin = np.min(cv_score)-0.05\n",
    "ymax = np.max(train_score)+0.05\n",
    "\n",
    "plt.figure(figsize=(9,4))\n",
    "plt.plot(iteration, train_score, 'ro-', label = 'training')\n",
    "plt.plot(iteration, cv_score, 'b*-', label = 'Cross-validation')\n",
    "plt.xlabel(\"iterations\")\n",
    "plt.ylabel(\"Score\")\n",
    "plt.xlim(-5, np.max(iteration)+10)\n",
    "plt.ylim(ymin, ymax)\n",
    "plt.plot(np.linspace(20,20,50), np.linspace(ymin, ymax, 50), 'g--')\n",
    "plt.legend(loc = 'lower right', fontsize = 12)\n",
    "plt.title(\"Score vs iteration learning curve\")\n",
    "\n",
    "plt.tight_layout()"
   ]
  },
  {
   "cell_type": "code",
   "execution_count": null,
   "metadata": {},
   "outputs": [],
   "source": [
    "改变数据量大小"
   ]
  },
  {
   "cell_type": "code",
   "execution_count": null,
   "metadata": {},
   "outputs": [],
   "source": [
    "# Chaning the sampling size\n",
    "# set the iter to the best iteration: iter = 20\n",
    "\n",
    "perc = [0.01,0.02,0.05,0.1,0.2,0.5,1]\n",
    "\n",
    "kf = KFold(n_splits=3, random_state=RANDOM_STATE)\n",
    "\n",
    "train_score = []\n",
    "cv_score = []\n",
    "\n",
    "# select a k:\n",
    "k_ndcg = 5\n",
    "\n",
    "for i, item in enumerate(perc):\n",
    "\n",
    "    lr = LogisticRegression(C=1.0, max_iter=20, tol=1e-6, solver='newton-cg', multi_class='ovr')\n",
    "    train_score_iter = []\n",
    "    cv_score_iter = []\n",
    "\n",
    "    n = int(xtrain_new.shape[0]*item)\n",
    "    xtrain_perc = xtrain_new[:n, :]\n",
    "    ytrain_perc = ytrain_new[:n]\n",
    "\n",
    "\n",
    "    for train_index, test_index in kf.split(xtrain_perc, ytrain_perc):\n",
    "\n",
    "        X_train, X_test = xtrain_perc[train_index, :], xtrain_perc[test_index, :]\n",
    "        y_train, y_test = ytrain_perc[train_index], ytrain_perc[test_index]\n",
    "\n",
    "        print(X_train.shape, X_test.shape)\n",
    "\n",
    "        lr.fit(X_train, y_train)\n",
    "\n",
    "        y_pred = lr.predict_proba(X_test)\n",
    "        train_ndcg_score = ndcg_score(y_train, lr.predict_proba(X_train), k = k_ndcg)\n",
    "        cv_ndcg_score = ndcg_score(y_test, y_pred, k=k_ndcg)\n",
    "\n",
    "        train_score_iter.append(train_ndcg_score)\n",
    "        cv_score_iter.append(cv_ndcg_score)\n",
    "\n",
    "    train_score.append(np.mean(train_score_iter))\n",
    "    cv_score.append(np.mean(cv_score_iter))\n",
    "    \n",
    "    ymin = np.min(cv_score)-0.1\n",
    "ymax = np.max(train_score)+0.1\n",
    "\n",
    "plt.figure(figsize=(9,4))\n",
    "plt.plot(np.array(perc)*100, train_score, 'ro-', label = 'training')\n",
    "plt.plot(np.array(perc)*100, cv_score, 'bo-', label = 'Cross-validation')\n",
    "plt.xlabel(\"Sample size (unit %)\")\n",
    "plt.ylabel(\"Score\")\n",
    "plt.xlim(-5, np.max(perc)*100+10)\n",
    "plt.ylim(ymin, ymax)\n",
    "\n",
    "plt.legend(loc = 'lower right', fontsize = 12)\n",
    "plt.title(\"Score vs sample size learning curve\")\n",
    "\n",
    "plt.tight_layout()"
   ]
  },
  {
   "cell_type": "code",
   "execution_count": null,
   "metadata": {},
   "outputs": [],
   "source": [
    "分析：随着数据量的增加，逻辑回归模型对测试集的预测评分\n",
    "\n",
    "（蓝色线）在不断上升，因为我们在训练模型时只用了10%的数据，如果使用全部的数据，效果可能会更好"
   ]
  },
  {
   "cell_type": "markdown",
   "metadata": {},
   "source": [
    "#### 3.2 树模型\n",
    "\n",
    "其中的模型包括DecisionTree，RandomForest，AdaBoost，Bagging，ExtraTree，GraBoost"
   ]
  },
  {
   "cell_type": "code",
   "execution_count": null,
   "metadata": {},
   "outputs": [],
   "source": [
    "from sklearn.ensemble import AdaBoostClassifier, BaggingClassifier, ExtraTreesClassifier\n",
    "from sklearn.ensemble import GradientBoostingClassifier, RandomForestClassifier\n",
    "from sklearn.tree import DecisionTreeClassifier\n",
    "from sklearn.ensemble import *\n",
    "from sklearn.svm import SVC, LinearSVC, NuSVC\n",
    "LEARNING_RATE = 0.1\n",
    "N_ESTIMATORS = 50\n",
    "RANDOM_STATE = 2017\n",
    "MAX_DEPTH = 9\n",
    "\n",
    "#建了一个tree字典\n",
    "clf_tree ={\n",
    "    'DTree': DecisionTreeClassifier(max_depth=MAX_DEPTH,\n",
    "                                    random_state=RANDOM_STATE),\n",
    "\n",
    "    'RF': RandomForestClassifier(n_estimators=N_ESTIMATORS,\n",
    "                                 max_depth=MAX_DEPTH,\n",
    "                                 random_state=RANDOM_STATE),\n",
    "\n",
    "    'AdaBoost': AdaBoostClassifier(n_estimators=N_ESTIMATORS,\n",
    "                                   learning_rate=LEARNING_RATE,\n",
    "                                   random_state=RANDOM_STATE),\n",
    "\n",
    "    'Bagging': BaggingClassifier(n_estimators=N_ESTIMATORS,\n",
    "                                 random_state=RANDOM_STATE),\n",
    "\n",
    "    'ExtraTree': ExtraTreesClassifier(max_depth=MAX_DEPTH,\n",
    "                                      n_estimators=N_ESTIMATORS,\n",
    "                                      random_state=RANDOM_STATE),\n",
    "\n",
    "    'GraBoost': GradientBoostingClassifier(learning_rate=LEARNING_RATE,\n",
    "                                           max_depth=MAX_DEPTH,\n",
    "                                           n_estimators=N_ESTIMATORS,\n",
    "                                           random_state=RANDOM_STATE)\n",
    "}\n",
    "train_score = []\n",
    "cv_score = []\n",
    "\n",
    "kf = KFold(n_splits=3, random_state=RANDOM_STATE)\n",
    "\n",
    "k_ndcg = 5\n",
    "\n",
    "for key in clf_tree.keys():\n",
    "\n",
    "    clf = clf_tree.get(key)\n",
    "\n",
    "    train_score_iter = []\n",
    "    cv_score_iter = []\n",
    "\n",
    "    for train_index, test_index in kf.split(xtrain_new, ytrain_new):\n",
    "\n",
    "        X_train, X_test = xtrain_new[train_index, :], xtrain_new[test_index, :]\n",
    "        y_train, y_test = ytrain_new[train_index], ytrain_new[test_index]\n",
    "\n",
    "        clf.fit(X_train, y_train)\n",
    "\n",
    "        y_pred = clf.predict_proba(X_test)\n",
    "        train_ndcg_score = ndcg_score(y_train, clf.predict_proba(X_train), k = k_ndcg)\n",
    "        cv_ndcg_score = ndcg_score(y_test, y_pred, k=k_ndcg)\n",
    "\n",
    "        train_score_iter.append(train_ndcg_score)\n",
    "        cv_score_iter.append(cv_ndcg_score)\n",
    "\n",
    "    train_score.append(np.mean(train_score_iter))\n",
    "    cv_score.append(np.mean(cv_score_iter))\n"
   ]
  },
  {
   "cell_type": "code",
   "execution_count": null,
   "metadata": {},
   "outputs": [],
   "source": [
    "train_score_tree = train_score\n",
    "cv_score_tree = cv_score\n",
    "\n",
    "ymin = np.min(cv_score)-0.05\n",
    "ymax = np.max(train_score)+0.05\n",
    "\n",
    "x_ticks = clf_tree.keys()\n",
    "\n",
    "plt.figure(figsize=(8,5))\n",
    "plt.plot(range(len(x_ticks)), train_score_tree, 'ro-', label = 'training')\n",
    "plt.plot(range(len(x_ticks)),cv_score_tree, 'bo-', label = 'Cross-validation')\n",
    "\n",
    "plt.xticks(range(len(x_ticks)),x_ticks,rotation = 45, fontsize = 10)\n",
    "plt.xlabel(\"Tree method\", fontsize = 12)\n",
    "plt.ylabel(\"Score\", fontsize = 12)\n",
    "plt.xlim(-0.5, 5.5)\n",
    "plt.ylim(ymin, ymax)\n",
    "\n",
    "plt.legend(loc = 'best', fontsize = 12)\n",
    "plt.title(\"Different tree methods\")\n",
    "\n",
    "plt.tight_layout()"
   ]
  },
  {
   "cell_type": "markdown",
   "metadata": {},
   "source": [
    "#### 3.3 SVM模型\n",
    "根据核函数的不同，又分为：SVM-rbf，SVM-poly，SVM-linear等"
   ]
  },
  {
   "cell_type": "code",
   "execution_count": null,
   "metadata": {},
   "outputs": [],
   "source": [
    "TOL = 1e-4\n",
    "MAX_ITER = 1000\n",
    "\n",
    "clf_svm = {\n",
    "\n",
    "    'SVM-rbf': SVC(kernel='rbf',\n",
    "                   max_iter=MAX_ITER,\n",
    "                   tol=TOL, random_state=RANDOM_STATE,\n",
    "                   decision_function_shape='ovr'),     \n",
    "\n",
    "    'SVM-poly': SVC(kernel='poly',\n",
    "                   max_iter=MAX_ITER,\n",
    "                   tol=TOL, random_state=RANDOM_STATE,\n",
    "                   decision_function_shape='ovr'),     \n",
    "\n",
    "    'SVM-linear': SVC(kernel='linear',\n",
    "                      max_iter=MAX_ITER,\n",
    "                      tol=TOL, \n",
    "                      random_state=RANDOM_STATE,\n",
    "                      decision_function_shape='ovr'),  \n",
    "\n",
    "    'LinearSVC': LinearSVC(max_iter=MAX_ITER,\n",
    "                            tol=TOL,\n",
    "                            random_state=RANDOM_STATE,\n",
    "                            multi_class = 'ovr')       \n",
    "\n",
    "train_score_svm = []\n",
    "cv_score_svm = []\n",
    "\n",
    "kf = KFold(n_splits=3, random_state=RANDOM_STATE)\n",
    "\n",
    "k_ndcg = 5\n",
    "\n",
    "for key in clf_svm.keys():\n",
    "\n",
    "    clf = clf_svm.get(key)\n",
    "\n",
    "    train_score_iter = []\n",
    "    cv_score_iter = []\n",
    "\n",
    "    for train_index, test_index in kf.split(xtrain_new, ytrain_new):\n",
    "\n",
    "        X_train, X_test = xtrain_new[train_index, :], xtrain_new[test_index, :]\n",
    "        y_train, y_test = ytrain_new[train_index], ytrain_new[test_index]\n",
    "\n",
    "        clf.fit(X_train, y_train)\n",
    "\n",
    "        y_pred = clf.decision_function(X_test)\n",
    "        train_ndcg_score = ndcg_score(y_train, clf.decision_function(X_train), k = k_ndcg)\n",
    "        cv_ndcg_score = ndcg_score(y_test, y_pred, k=k_ndcg)\n",
    "\n",
    "        train_score_iter.append(train_ndcg_score)\n",
    "        cv_score_iter.append(cv_ndcg_score)\n",
    "\n",
    "    train_score_svm.append(np.mean(train_score_iter))\n",
    "    cv_score_svm.append(np.mean(cv_score_iter))\n",
    "}"
   ]
  },
  {
   "cell_type": "code",
   "execution_count": null,
   "metadata": {},
   "outputs": [],
   "source": [
    "ymin = np.min(cv_score_svm)-0.05\n",
    "ymax = np.max(train_score_svm)+0.05\n",
    "\n",
    "x_ticks = clf_svm.keys()\n",
    "\n",
    "plt.figure(figsize=(8,5))\n",
    "plt.plot(range(len(x_ticks)), train_score_svm, 'ro-', label = 'training')\n",
    "plt.plot(range(len(x_ticks)),cv_score_svm, 'bo-', label = 'Cross-validation')\n",
    "\n",
    "plt.xticks(range(len(x_ticks)),x_ticks,rotation = 45, fontsize = 10)\n",
    "plt.xlabel(\"Tree method\", fontsize = 12)\n",
    "plt.ylabel(\"Score\", fontsize = 12)\n",
    "plt.xlim(-0.5, 3.5)\n",
    "plt.ylim(ymin, ymax)\n",
    "\n",
    "plt.legend(loc = 'best', fontsize = 12)\n",
    "plt.title(\"Different SVM methods\")\n",
    "\n",
    "plt.tight_layout()"
   ]
  },
  {
   "cell_type": "markdown",
   "metadata": {},
   "source": [
    "#### 3.4xgboost"
   ]
  },
  {
   "cell_type": "code",
   "execution_count": null,
   "metadata": {},
   "outputs": [],
   "source": [
    "import xgboost as xgb\n",
    "\n",
    "def customized_eval(preds, dtrain):\n",
    "    labels = dtrain.get_label()\n",
    "    top = []\n",
    "    for i in range(preds.shape[0]):\n",
    "        top.append(np.argsort(preds[i])[::-1][:5])\n",
    "    mat = np.reshape(np.repeat(labels,np.shape(top)[1]) == np.array(top).ravel(),np.array(top).shape).astype(int)\n",
    "    score = np.mean(np.sum(mat/np.log2(np.arange(2, mat.shape[1] + 2)),axis = 1))\n",
    "    return 'ndcg5', score\n",
    "# xgboost parameters\n",
    "\n",
    "NUM_XGB = 200\n",
    "\n",
    "params = {}\n",
    "params['colsample_bytree'] = 0.6\n",
    "params['max_depth'] = 6\n",
    "params['subsample'] = 0.8\n",
    "params['eta'] = 0.3\n",
    "params['seed'] = RANDOM_STATE\n",
    "params['num_class'] = 12\n",
    "params['objective'] = 'multi:softprob'   # output the probability instead of class. \n",
    "train_score_iter = []\n",
    "cv_score_iter = []\n",
    "\n",
    "kf = KFold(n_splits = 3, random_state=RANDOM_STATE)\n",
    "\n",
    "k_ndcg = 5\n",
    "\n",
    "for train_index, test_index in kf.split(xtrain_new, ytrain_new):\n",
    "\n",
    "    X_train, X_test = xtrain_new[train_index, :], xtrain_new[test_index, :]\n",
    "    y_train, y_test = ytrain_new[train_index], ytrain_new[test_index]\n",
    "\n",
    "    train_xgb = xgb.DMatrix(X_train, label= y_train)\n",
    "    test_xgb = xgb.DMatrix(X_test, label = y_test)\n",
    "\n",
    "    watchlist = [ (train_xgb,'train'), (test_xgb, 'test') ]\n",
    "\n",
    "    bst = xgb.train(params, \n",
    "                     train_xgb,\n",
    "                     NUM_XGB,\n",
    "                     watchlist,\n",
    "                     feval = customized_eval,\n",
    "                     verbose_eval = 3,\n",
    "                     early_stopping_rounds = 5)\n",
    "\n",
    "\n",
    "    #bst = xgb.train( params, dtrain, num_round, evallist )\n",
    "\n",
    "    y_pred = np.array(bst.predict(test_xgb))\n",
    "    y_pred_train = np.array(bst.predict(train_xgb))\n",
    "    train_ndcg_score = ndcg_score(y_train, y_pred_train , k = k_ndcg)\n",
    "    cv_ndcg_score = ndcg_score(y_test, y_pred, k=k_ndcg)\n",
    "\n",
    "    train_score_iter.append(train_ndcg_score)\n",
    "    cv_score_iter.append(cv_ndcg_score)\n",
    "\n",
    "train_score_xgb = np.mean(train_score_iter)\n",
    "cv_score_xgb = np.mean(cv_score_iter)\n",
    "\n",
    "print (\"\\nThe training score is: {}\".format(train_score_xgb))\n",
    "print (\"The cv score is: {}\\n\".format(cv_score_xgb))"
   ]
  },
  {
   "cell_type": "markdown",
   "metadata": {},
   "source": [
    "#### 3.5 模型比较"
   ]
  },
  {
   "cell_type": "code",
   "execution_count": null,
   "metadata": {},
   "outputs": [],
   "source": [
    "model_cvscore = np.hstack((cv_score_lr, cv_score_tree, cv_score_svm, cv_score_xgb))\n",
    "model_name = np.array(['LinearReg','ExtraTree','DTree','RF','GraBoost','Bagging','AdaBoost','LinearSVC','SVM-linear','SVM-rbf','SVM-poly','Xgboost'])\n",
    "fig = plt.figure(figsize=(8,4))\n",
    "\n",
    "sns.barplot(model_cvscore, model_name, palette=\"Blues_d\")\n",
    "\n",
    "plt.xticks(rotation=0, size = 10)\n",
    "plt.xlabel(\"CV score\", fontsize = 12)\n",
    "plt.ylabel(\"Model\", fontsize = 12)\n",
    "plt.title(\"Cross-validation score for different models\")\n",
    "\n",
    "plt.tight_layout()"
   ]
  },
  {
   "cell_type": "markdown",
   "metadata": {},
   "source": [
    "### 4小结\n",
    "- 对数据的理解和探索很重要\n",
    "- 可以通过特征工程，进一步提取特征\n",
    "- 模型评估的方法有很多种，选取适宜的模型评估方法\n",
    "- 目前只用了10%的数据进行模型训练，用全部的数据集进行训练，效果可能会更好\n",
    "- 需要深入学习模型算法，学会调参"
   ]
  },
  {
   "cell_type": "code",
   "execution_count": null,
   "metadata": {},
   "outputs": [],
   "source": []
  }
 ],
 "metadata": {
  "kernelspec": {
   "display_name": "Python 3",
   "language": "python",
   "name": "python3"
  },
  "language_info": {
   "codemirror_mode": {
    "name": "ipython",
    "version": 3
   },
   "file_extension": ".py",
   "mimetype": "text/x-python",
   "name": "python",
   "nbconvert_exporter": "python",
   "pygments_lexer": "ipython3",
   "version": "3.7.0"
  }
 },
 "nbformat": 4,
 "nbformat_minor": 2
}
