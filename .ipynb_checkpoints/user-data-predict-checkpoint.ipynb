{
 "cells": [
  {
   "cell_type": "markdown",
   "metadata": {},
   "source": [
    "# Airbnb New User Bookings\n",
    "## 1.数据处理"
   ]
  },
  {
   "cell_type": "markdown",
   "metadata": {},
   "source": [
    "### 1.1导入数据\n",
    "语句简要说明：首先将必用包导入。\n",
    "\n",
    "**%matplotlib inline** 表示将绘制出的表格嵌入到notebook中。"
   ]
  },
  {
   "cell_type": "code",
   "execution_count": 2,
   "metadata": {
    "scrolled": true
   },
   "outputs": [],
   "source": [
    "import numpy as np\n",
    "import pandas as pd\n",
    "import matplotlib.pyplot as plt\n",
    "import sklearn as sk\n",
    "import seaborn as sns\n",
    "import datetime\n",
    "%matplotlib inline"
   ]
  },
  {
   "cell_type": "markdown",
   "metadata": {},
   "source": [
    "使用pd.read_csv()将训练集以及测试集数据导入读取。并存储在train与test中。"
   ]
  },
  {
   "cell_type": "code",
   "execution_count": 3,
   "metadata": {},
   "outputs": [],
   "source": [
    "train = pd.read_csv(\"./Data/train_users_2.csv\")\n",
    "test = pd.read_csv(\"./Data/test_users.csv\")"
   ]
  },
  {
   "cell_type": "markdown",
   "metadata": {},
   "source": [
    "### 1.2数据分析——train，test文件\n",
    "读取了数据集之后，分别打印出两个数据集中所包含的特征。运行之后可以看到，\n",
    "training数据集与test数据集中的数据大致相同。而trainingt比test数据集中多了\n",
    "“country_destination”特征，是需要预测的目标变量。因此在我们进行数据分析处理时\n",
    "着重分析train文件"
   ]
  },
  {
   "cell_type": "code",
   "execution_count": 4,
   "metadata": {
    "scrolled": false
   },
   "outputs": [
    {
     "name": "stdout",
     "output_type": "stream",
     "text": [
      "the columns name of training dataset:\n",
      " Index(['id', 'date_account_created', 'timestamp_first_active',\n",
      "       'date_first_booking', 'gender', 'age', 'signup_method', 'signup_flow',\n",
      "       'language', 'affiliate_channel', 'affiliate_provider',\n",
      "       'first_affiliate_tracked', 'signup_app', 'first_device_type',\n",
      "       'first_browser', 'country_destination'],\n",
      "      dtype='object')\n",
      "the columns name of test dataset:\n",
      " Index(['id', 'date_account_created', 'timestamp_first_active',\n",
      "       'date_first_booking', 'gender', 'age', 'signup_method', 'signup_flow',\n",
      "       'language', 'affiliate_channel', 'affiliate_provider',\n",
      "       'first_affiliate_tracked', 'signup_app', 'first_device_type',\n",
      "       'first_browser'],\n",
      "      dtype='object')\n"
     ]
    }
   ],
   "source": [
    "print('the columns name of training dataset:\\n',train.columns)\n",
    "print('the columns name of test dataset:\\n',test.columns)"
   ]
  },
  {
   "cell_type": "markdown",
   "metadata": {},
   "source": [
    "在得知数据集所有特征之后，我们选择train文件进行分析。通过info（）方法将数据集的简要信息打印出来。\n",
    "\n",
    "运行之后我们可以得知：\n",
    "\n",
    "train文件包含213451条数据，16个特征。并且date_first_booking和first_affiliate_tracked存在多个空值。\n",
    "\n",
    "在运算计算过程中，对于这两个特征应该小心考虑\n",
    "并且，由于date_first_booking空值较多。在特征提取时，可以考虑是否要进行删除。\n",
    " \n",
    "---\n",
    "\n",
    "**所使用方法说明：**\n",
    "\n",
    "**DataFrame.info()————pandas**\n",
    "\n",
    "**用于对某个数据集的简要统计说明。**"
   ]
  },
  {
   "cell_type": "code",
   "execution_count": 5,
   "metadata": {
    "scrolled": false
   },
   "outputs": [
    {
     "name": "stdout",
     "output_type": "stream",
     "text": [
      "<class 'pandas.core.frame.DataFrame'>\n",
      "RangeIndex: 213451 entries, 0 to 213450\n",
      "Data columns (total 16 columns):\n",
      "id                         213451 non-null object\n",
      "date_account_created       213451 non-null object\n",
      "timestamp_first_active     213451 non-null int64\n",
      "date_first_booking         88908 non-null object\n",
      "gender                     213451 non-null object\n",
      "age                        125461 non-null float64\n",
      "signup_method              213451 non-null object\n",
      "signup_flow                213451 non-null int64\n",
      "language                   213451 non-null object\n",
      "affiliate_channel          213451 non-null object\n",
      "affiliate_provider         213451 non-null object\n",
      "first_affiliate_tracked    207386 non-null object\n",
      "signup_app                 213451 non-null object\n",
      "first_device_type          213451 non-null object\n",
      "first_browser              213451 non-null object\n",
      "country_destination        213451 non-null object\n",
      "dtypes: float64(1), int64(2), object(13)\n",
      "memory usage: 26.1+ MB\n",
      "None\n"
     ]
    }
   ],
   "source": [
    "print(train.info())"
   ]
  },
  {
   "cell_type": "markdown",
   "metadata": {},
   "source": [
    "#### 1.2.1 date_account_created\n",
    "通过info（）方法得知数据集的特征之后，我们开始对所有特征进行逐个分析。因为id是用户的标记名称，作为分析的意义不大。因此我们可以略过，直接分析date_account_created特征。首先使用describe()方法查看date_account_created特征的概要信息。我们通过输出可以看出以下信息：\n",
    "\n",
    "date_account_created总共有213451条数据，\n",
    "\n",
    "不重复日期有1634天，\n",
    "\n",
    "最近一次日期为2014-05-13 等……\n",
    "\n",
    "---\n",
    "\n",
    "\n",
    "**所使用方法说明：**\n",
    "\n",
    "**DataFrame.describe()————pandas**\n",
    "\n",
    "**describe()函数自动计算的字段有count（非空值数）、unique（唯一值数）、top（频数最高者）、freq（最高频数量）**"
   ]
  },
  {
   "cell_type": "code",
   "execution_count": 6,
   "metadata": {
    "scrolled": true
   },
   "outputs": [
    {
     "name": "stdout",
     "output_type": "stream",
     "text": [
      "count         213451\n",
      "unique          1634\n",
      "top       2014-05-13\n",
      "freq             674\n",
      "Name: date_account_created, dtype: object\n"
     ]
    }
   ],
   "source": [
    "print(train.date_account_created.describe())"
   ]
  },
  {
   "cell_type": "markdown",
   "metadata": {},
   "source": [
    "分析了大致情况之后，我们可以通过数据可视化处理，将**date_account_created**中的数据分析并以图像展示。\n",
    "\n",
    "我们可以通过下面的图标发现，用户的增长量是与日期成正比的。\n",
    "\n",
    "\n",
    "---\n",
    "\n",
    "**所使用方法说明：**\n",
    "\n",
    "**1.pandas.Series.value_counts()**\n",
    "\n",
    "**value_counts()是一种查看表格某列中有多少个不同值的快捷方法，并计算每个不同值有在该列中有多少重复值。默认为递减排序**\n",
    "\n",
    "**输出为Series，是一个一维数组，第一列作为series的index索引**\n",
    "\n",
    "**2.pandas.index**\n",
    "\n",
    "**网络上对于index的用法讲述并不明确，这里我认为在这里index的用途是将series的索引取出。**\n",
    "\n",
    "**3.panda.to_datetime()**\n",
    "\n",
    "**将Str和Unicode转化为时间格式**\n",
    "**4.matplotlib.pyplot.scatter(x, y, s=None, c=None, marker=None, cmap=None, norm=None, vmin=None, vmax=None, alpha=None, linewidths=None, verts=None, edgecolors=None, \\*, data=None, \\*\\*kwargs)**\n",
    "\n",
    "**用来绘制绘制散点图。**\n",
    "\n",
    " |参数|意义|\n",
    " |----|----|\n",
    " |x|x轴的变量|\n",
    " |y|y轴的变量|\n",
    " |s|形状大小|\n",
    " |c|颜色| \n"
   ]
  },
  {
   "cell_type": "code",
   "execution_count": 7,
   "metadata": {},
   "outputs": [
    {
     "data": {
      "text/plain": [
       "<matplotlib.legend.Legend at 0x1ffb3e31a90>"
      ]
     },
     "execution_count": 7,
     "metadata": {},
     "output_type": "execute_result"
    },
    {
     "data": {
      "image/png": "[encoded data removed]",
      "text/plain": [
       "<Figure size 432x288 with 1 Axes>"
      ]
     },
     "metadata": {
      "needs_background": "light"
     },
     "output_type": "display_data"
    }
   ],
   "source": [
    "#计算train训练集和test训练集中date_account_created的唯一值及其频率次数\n",
    "dac_train = train.date_account_created.value_counts()\n",
    "dac_test = test.date_account_created.value_counts()\n",
    "#将统计后的所有日期由字符串格式转换为统一的日期格式\n",
    "dac_train_date = pd.to_datetime(train.date_account_created.value_counts().index)\n",
    "dac_test_date = pd.to_datetime(test.date_account_created.value_counts().index)\n",
    "#计算日期差距\n",
    "dac_train_day = dac_train_date - dac_train_date.min()\n",
    "dac_test_day = dac_test_date - dac_train_date.min()\n",
    "#将train数据集和test数据集全部显示在图中\n",
    "plt.scatter(dac_train_day.days,dac_train.values, color = 'r', label = 'train dataset')\n",
    "plt.scatter(dac_test_day.days,dac_test.values, color = 'b', label = 'test dataset')\n",
    "#注明点状图的各个名称\n",
    "plt.title('Accounts created vs day')\n",
    "plt.xlabel('Days')\n",
    "plt.ylabel('Accounts created')\n",
    "plt.legend(loc = 'upper left')"
   ]
  },
  {
   "cell_type": "markdown",
   "metadata": {},
   "source": [
    "#### 1.2.2 timestamp_first_active \n",
    "在分析了上述的特征之后，我们对第二个特征timestamp_first_active 进行分析。\n",
    "\n",
    "同样我们首先通过describe查看timestamp_first_active 特征的简要统计信息。"
   ]
  },
  {
   "cell_type": "code",
   "execution_count": 8,
   "metadata": {},
   "outputs": [
    {
     "name": "stdout",
     "output_type": "stream",
     "text": [
      "count    2.134510e+05\n",
      "mean     2.013085e+13\n",
      "std      9.253717e+09\n",
      "min      2.009032e+13\n",
      "25%      2.012123e+13\n",
      "50%      2.013091e+13\n",
      "75%      2.014031e+13\n",
      "max      2.014063e+13\n",
      "Name: timestamp_first_active, dtype: float64\n"
     ]
    }
   ],
   "source": [
    "print(train.timestamp_first_active.describe())"
   ]
  },
  {
   "cell_type": "markdown",
   "metadata": {},
   "source": [
    "上面的统计信息因为记录的字符串过长，被显示为了浮点型数据。我们可以选择查看部分数据。\n",
    "\n",
    "----\n",
    "\n",
    "**所用的方法：**\n",
    "\n",
    "**head()————panda**\n",
    "\n",
    "**用来查看前几行的数据，（）中输入整型数字n表示查看前n个数据。**"
   ]
  },
  {
   "cell_type": "code",
   "execution_count": 9,
   "metadata": {},
   "outputs": [
    {
     "name": "stdout",
     "output_type": "stream",
     "text": [
      "0    20090319043255\n",
      "1    20090523174809\n",
      "2    20090609231247\n",
      "3    20091031060129\n",
      "4    20091208061105\n",
      "Name: timestamp_first_active, dtype: int64\n"
     ]
    }
   ],
   "source": [
    "print(train.timestamp_first_active.head())"
   ]
  },
  {
   "cell_type": "markdown",
   "metadata": {},
   "source": [
    "接下来我们查看该特征下的值得频率。我们可以发现得到的频率统计似乎都是1。\n",
    "\n",
    "为了验证我们的猜想，我们再用value_counts（）统计之后，我们再使用unique()方法来确定是否全部都无重复。\n",
    "\n",
    "我们可以发现并无重复数据。\n",
    "\n",
    "----\n",
    "\n",
    "**所用到的方法：**\n",
    "\n",
    "**unique（）————pandas**\n",
    "**用来检测数据中是否存在重复值。**"
   ]
  },
  {
   "cell_type": "code",
   "execution_count": 10,
   "metadata": {},
   "outputs": [
    {
     "name": "stdout",
     "output_type": "stream",
     "text": [
      "[1]\n"
     ]
    }
   ],
   "source": [
    "#print(train.timestamp_first_active.value_counts())\n",
    "print(train.timestamp_first_active.value_counts().unique())"
   ]
  },
  {
   "cell_type": "markdown",
   "metadata": {},
   "source": [
    "因为并不存在重复数据，且数据量过大，对其进行数据可视化的效果可能并不理想，因此先暂放。\n",
    "\n",
    "但是我们可以看到该特征下的数据并非是正常的日期格式，而是以字符串表示。为了之后分析便捷，我们将数据进行格式转换。\n",
    "\n",
    "通过切片操作，将年月日时依次切分。并且我们已知timestamp_first_active类型为int64，所以我们如果需要使用切片处理，\n",
    "\n",
    "最好的方法是先进行格式转换。\n",
    "\n",
    "----\n",
    "\n",
    "**所用到的方法**\n",
    "\n",
    "**1、DataFrame.apply(func, axis=0, broadcast=False, raw=False, reduce=None, args=(), /* /* kwds)——pandas**\n",
    "\n",
    "**该函数最有用的是第一个参数，这个参数是函数，相当于C/C++的函数指针。**\n",
    "\n",
    "**这个函数需要自己实现，函数的传入参数根据axis来定，比如axis = 1，就会把一行数据作为Series的数据**\n",
    "\n",
    "**结构传入给自己实现的函数中，我们在函数中实现对Series不同属性之间的计算，返回一个结果，则apply函数**\n",
    "\n",
    "**会自动遍历每一行DataFrame的数据，最后将所有结果组合成一个Series数据结构并返回。**\n",
    "\n",
    "**2.lambda\n",
    "**lambda argument_list: expression**\n",
    "**lambda是Python预留的关键字，argument_list和expression由用户自定义。具体介绍如下。这里的argument_list是参数列表。它的结构与Python中函数**\n",
    "\n",
    "**(function)的参数列表是一样的。具体来说，argument_list可以有非常多的形式。例如：数值，变量，为空等。这里的expression是一个关于参数的表达**\n",
    "\n",
    "**式。表达式中出现的参数需要在argument_list中有定义，并且表达式只能是单行的。**\n",
    "\n",
    "**lambda函数有如下特性：**\n",
    "\n",
    "    * lambda函数是匿名的：所谓匿名函数，通俗地说就是没有名字的函数。lambda函数没有名字。\n",
    "\n",
    "    * lambda函数有输入和输出：输入是传入到参数列表argument_list的值，输出是根据表达式expression计算得到的值。\n",
    "\n",
    "    * lambda函数一般功能简单：单行expression决定了lambda函数不可能完成复杂的逻辑，只能完成非常简单的功能。由于其实现的功能一目了然,甚至不需要专门的名字来说明。\n",
    "\n",
    "**3.astype()————Numpy数组**\n",
    "\n",
    "**用于数据类型转换，（）中是需要转换成的数据类型。**\n"
   ]
  },
  {
   "cell_type": "code",
   "execution_count": 11,
   "metadata": {},
   "outputs": [
    {
     "name": "stdout",
     "output_type": "stream",
     "text": [
      "count                  213451\n",
      "unique                 213451\n",
      "top       2013-07-01 05:26:34\n",
      "freq                        1\n",
      "first     2009-03-19 04:32:55\n",
      "last      2014-06-30 23:58:24\n",
      "Name: timestamp_first_active, dtype: object\n"
     ]
    }
   ],
   "source": [
    "tfa_train_dt = train.timestamp_first_active.astype(str).apply(lambda x:  \n",
    "                                                                    datetime.datetime(int(x[:4]),\n",
    "                                                                                      int(x[4:6]), \n",
    "                                                                                      int(x[6:8]), \n",
    "                                                                                      int(x[8:10]), \n",
    "                                                                                      int(x[10:12]),\n",
    "                                                                                      int(x[12:])))\n",
    "print(tfa_train_dt.describe())"
   ]
  },
  {
   "cell_type": "markdown",
   "metadata": {},
   "source": [
    "#### 1.2.3 date_first_booking \n",
    "同上文一样，我们先查看数据的简要统计。我们会发现在训练集中，date_first_booking 特征存在大量缺失值。\n",
    "因此我们再对测试集进行查看。发现测试集中的date_first_booking 特征全部都是缺失值。因此我们对于这项特征，先不考虑。在建模初期可以尝试删除。"
   ]
  },
  {
   "cell_type": "code",
   "execution_count": 12,
   "metadata": {},
   "outputs": [
    {
     "name": "stdout",
     "output_type": "stream",
     "text": [
      "***********训练集****************\n",
      "count          88908\n",
      "unique          1976\n",
      "top       2014-05-22\n",
      "freq             248\n",
      "Name: date_first_booking, dtype: object\n",
      "***********测试集****************\n",
      "count    0.0\n",
      "mean     NaN\n",
      "std      NaN\n",
      "min      NaN\n",
      "25%      NaN\n",
      "50%      NaN\n",
      "75%      NaN\n",
      "max      NaN\n",
      "Name: date_first_booking, dtype: float64\n"
     ]
    }
   ],
   "source": [
    "print(\"***********训练集****************\")\n",
    "print(train.date_first_booking.describe())\n",
    "print(\"***********测试集****************\")\n",
    "print(test.date_first_booking.describe())"
   ]
  },
  {
   "cell_type": "markdown",
   "metadata": {},
   "source": [
    "#### 1.2.4 age\n",
    "查看age简要统计,但是在查看中我们发现value_counts()统计出来的结果频率重复高，且过于冗长，我们只查看前五个即可。"
   ]
  },
  {
   "cell_type": "code",
   "execution_count": 13,
   "metadata": {},
   "outputs": [
    {
     "name": "stdout",
     "output_type": "stream",
     "text": [
      "30.0    6124\n",
      "31.0    6016\n",
      "29.0    5963\n",
      "28.0    5939\n",
      "32.0    5855\n",
      "Name: age, dtype: int64\n",
      "count    125461.000000\n",
      "mean         49.668335\n",
      "std         155.666612\n",
      "min           1.000000\n",
      "25%          28.000000\n",
      "50%          34.000000\n",
      "75%          43.000000\n",
      "max        2014.000000\n",
      "Name: age, dtype: float64\n"
     ]
    }
   ],
   "source": [
    "print(train.age.value_counts().head(5))\n",
    "print(train.age.describe())"
   ]
  },
  {
   "cell_type": "markdown",
   "metadata": {},
   "source": [
    "在分析之后，发现age特征的重复频率较高，且分阶段明显，因此我们可以考虑使用柱状图或者饼状图进行数据可视化处理。\n",
    "\n",
    "经过分析之后我们可以发现，大部分用户的年龄都在正常范围内。并且具有一定数量的缺失值。\n",
    "\n",
    "----\n",
    "**所用到的方法：**\n",
    "\n",
    "**1、shape——numpy**\n",
    "\n",
    "**shape函数是它的功能是读取矩阵的长度，比如shape\\[0\\]就是读取矩阵第一维度的长度。直接用.shape可以快速读取矩阵的形状。**\n",
    "\n",
    "**2.pandas.DataFrame.query（）**\n",
    "**用来查询满足某项条件的某一列的值。**\n",
    "\n",
    "**3.matplotlib.pyplot.subplots(nrows=1, ncols=1, sharex=False, sharey=False, squeeze=True, subplot_kw=None, gridspec_kw=None, **fig_kw)**\n",
    "\n",
    "**参数解释：**\n",
    "    * nrows,ncols:整型，可选参数，默认为1。表示子图网格(grid)的行数与列数\n",
    "    * sharex,sharey：布尔值或者{'none','all','row','col'}，默认：False。控制x(sharex)或y(sharey)轴之间的属性共享：\n",
    "                        1.True或者'all'：x或y轴属性将在所有子图(subplots)中共享.\n",
    "                        2.False或'none'：每个子图的x或y轴都是独立的部分\n",
    "                        3.'row'：每个子图在一个x或y轴共享行(row)\n",
    "                        4.'col':每个子图在一个x或y轴共享列(column)\n",
    "                          当子图在x轴有一个共享列时('col'),只有底部子图的x tick标记是可视的。\n",
    "                          同理，当子图在y轴有一个共享行时('row'),只有第一列子图的y tick标记是可视的。\n",
    "    * squeeze：布尔类型，可选参数，默认：True。如果是True，额外的维度从返回的Axes(轴)对象中挤出。\n",
    "                        》如果只有一个子图被构建(nrows=ncols=1)，结果是单个Axes对象作为标量被返回。\n",
    "                        》对于N* 1或1* N个子图，返回一个1维数组。\n",
    "                        》对于N* M，N>1和M>1返回一个2维数组。\n",
    "                        如果是False，不进行挤压操作：返回一个元素为Axes实例的2维数组，即使它最终是1x1。\n",
    "    * subplot_kw:字典类型，可选参数。把字典的关键字传递给add_subplot()来创建每个子图。\n",
    "    * gridspec_kw字典类型，可选参数。把字典的关键字传递给GridSpec构造函数创建子图放在网格里(grid)。\n",
    "    * * * fig_kw：把所有详细的关键字参数传给figure()函数\n",
    "    \n",
    "**4、pie(x,explode=None,labels=None,colors='b','g','r','c','m','y','k','w'),autopct=None,pctdistance=0.6,shadow=False,labeldistance=1.1,st**\n",
    "**artangle=None, radius=None,counterclock=True,wedgeprops=None,textprops=None,center=（0,0),frame=False )**\n",
    "    * x：(每一块)的比例，如果sum(x) > 1会使用sum(x)归一化\n",
    "    * labels：(每一块)饼图外侧显示的说明文字explode (每一块)离开中心距离\n",
    "    * startangle：起始绘制角度,默认图是从x轴正方向逆时针画起,如设定=90则从y轴正方向画起\n",
    "    * shadow：是否阴影\n",
    "    * labeldistance：label绘制位置,相对于半径的比例, 如<1则绘制在饼图内侧\n",
    "    * autopct：控制饼图内百分比设置,可以使用format字符串或者format function\n",
    "            '%1.1f'指小数点前后位数(没有用空格补齐)\n",
    "    * pctdistance 类似于labeldistance,指定autopct的位置刻度\n",
    "    * radius：控制饼图半径"
   ]
  },
  {
   "cell_type": "code",
   "execution_count": 14,
   "metadata": {},
   "outputs": [
    {
     "data": {
      "image/png": "[encoded data removed]",
      "text/plain": [
       "<Figure size 720x360 with 1 Axes>"
      ]
     },
     "metadata": {
      "needs_background": "light"
     },
     "output_type": "display_data"
    },
    {
     "data": {
      "image/png": "[encoded data removed]",
      "text/plain": [
       "<Figure size 432x288 with 1 Axes>"
      ]
     },
     "metadata": {},
     "output_type": "display_data"
    }
   ],
   "source": [
    "#首先将年龄分组吧，而且因为存在部分空值，因此分组为：null，低龄（0-18），成年人（18-90），高龄（90+）\n",
    "age_train = [train[train.age.isnull()].age.shape[0],\n",
    "             train.query('age < 18').age.shape[0],\n",
    "             train.query('age >= 18 & age <=90').age.shape[0],\n",
    "             train.query('age>90').age.shape[0]]\n",
    "\n",
    "#设置分类好的标签\n",
    "#画树状图\n",
    "labels = ['null','age<18','18<=age<=90','age>90']\n",
    "fig,x1 = plt.subplots(sharex=True,sharey=True,figsize=(10,5))\n",
    "sns.barplot(labels,age_train,ax = x1)\n",
    "x1.set_title('training dataset')\n",
    "x1.set_ylabel('Numbers')\n",
    "\n",
    "#画饼状图\n",
    "fig2 = plt.figure()\n",
    "plt.pie(age_train,labels=labels,autopct='%1.2f%%')\n",
    "plt.title('Pie chart')\n",
    "plt.show()"
   ]
  },
  {
   "cell_type": "markdown",
   "metadata": {},
   "source": [
    "通过查看csv源文件数据，我们发现其他特征所包含的labels并不多，因此我们可以尝试在特征分析过程中使用**独热编码（one hot encoding）**即可。\n",
    "\n",
    "**独热编码（one hot encoding）**\n",
    "\n",
    "独热编码，又称一位有效编码，其方法是使用N位状态寄存器来对N个状态进行编码，每个状态都有它独立的寄存器位，并且在任意时候，其中只有一位有效。\n",
    "\n",
    "    * 例如：\n",
    "\n",
    "        ** 自然状态码为：000  ,  001,   010,   011,  100,  101\n",
    "\n",
    "        ** 独热编码为  ：000001,000010,000100,001000,010000,100000\n",
    " \n",
    "可以这样理解，对于每一个特征，如果它有m个可能值，那么经过独热编码后，就变成了m个二元特征。并且，这些特征互斥，每次只有一个激活。因此，数据会变成稀疏的。这样做的好处主要有：\n",
    "\n",
    "    1、解决了分类器不好处理属性数据的问题\n",
    "\n",
    "    2、在一定程度上也起到了扩充特征的作用\n",
    "    \n",
    "同时为了方便，我们定义一个函数用来处理后面的特征。\n",
    "\n",
    "----\n",
    "**所用到的方法**\n",
    "\n",
    "**1、seaborn.barplot(x=None, y=None, hue=None, data=None, order=None, hue_order=None,ci=95, n_boot=1000, units=None, orient=None,**\n",
    "\n",
    "**color=None, palette=None, saturation=0.75, errcolor='.26', errwidth=None, capsize=None, ax=None, estimator=<function mean>，* * kwargs)**\n",
    "\n",
    "参数解释：\n",
    "    * x, y, hue： 设置 x,y轴以及颜色控制的变量\n",
    "    * data：输入的数据集\n",
    "    * order, hue_order：控制变量绘图的顺序\n",
    "    * ax：设置子图位置\n",
    "\n",
    "**2、"
   ]
  },
  {
   "cell_type": "code",
   "execution_count": 15,
   "metadata": {},
   "outputs": [],
   "source": [
    "def feature_barplot(feature, df_train = train, figsize=(10,5), rot = 90, saveimg = False): \n",
    "    \"\"\"\n",
    "    feature:要处理的特征\n",
    "    df_train:训练集\n",
    "    figsize:已存在figure对象，通过fig设置尺寸大小。\n",
    "    rot:\n",
    "    saveimg:\n",
    "    \"\"\"\n",
    "    #读取训练集该特征的简要数据统计\n",
    "    feat_train = df_train[feature].value_counts()\n",
    "    #绘制图片\n",
    "    fig_feature,axis1 = plt.subplots(figsize = figsize)\n",
    "    sns.barplot(feat_train.index.values, feat_train.values)\n",
    "    #用来对x轴上的标记进行优化。因为后面再统计first_browser的时候通过这条语句可以避免图片里各个标签元素名称重叠\n",
    "    axis1.set_xticklabels(axis1.xaxis.get_majorticklabels(), rotation = rot)\n",
    "    #对图片进行标注\n",
    "    axis1.set_title(feature + ' of training dataset')\n",
    "    axis1.set_ylabel('Numbers')\n",
    "    \n",
    "    #图片保存\n",
    "    if saveimg == True:\n",
    "        figname = feature + \".png\"\n",
    "        fig_feature.savefig(figname, dpi = 75)"
   ]
  },
  {
   "cell_type": "markdown",
   "metadata": {},
   "source": [
    "#### 1.2.5 gender\n",
    "对性别进行分析，发现男性的数量要少量低于女性，且存在大量null值。"
   ]
  },
  {
   "cell_type": "code",
   "execution_count": 16,
   "metadata": {},
   "outputs": [
    {
     "data": {
      "image/png": "[encoded data removed]",
      "text/plain": [
       "<Figure size 720x360 with 1 Axes>"
      ]
     },
     "metadata": {
      "needs_background": "light"
     },
     "output_type": "display_data"
    }
   ],
   "source": [
    "feature_barplot('gender', saveimg = True)"
   ]
  },
  {
   "cell_type": "markdown",
   "metadata": {},
   "source": [
    "#### 1.2.6 signup_method\n",
    "注册方式分析"
   ]
  },
  {
   "cell_type": "code",
   "execution_count": 17,
   "metadata": {},
   "outputs": [
    {
     "data": {
      "image/png": "[encoded data removed]",
      "text/plain": [
       "<Figure size 720x360 with 1 Axes>"
      ]
     },
     "metadata": {
      "needs_background": "light"
     },
     "output_type": "display_data"
    }
   ],
   "source": [
    "feature_barplot('signup_method')"
   ]
  },
  {
   "cell_type": "markdown",
   "metadata": {},
   "source": [
    "#### 1.2.7 language\n",
    "使用语言分析，可以发现大部分都是使用英文，但是我的直观感觉是这个特征的用处不会太大。"
   ]
  },
  {
   "cell_type": "code",
   "execution_count": 18,
   "metadata": {},
   "outputs": [
    {
     "data": {
      "image/png": "[encoded data removed]",
      "text/plain": [
       "<Figure size 720x360 with 1 Axes>"
      ]
     },
     "metadata": {
      "needs_background": "light"
     },
     "output_type": "display_data"
    }
   ],
   "source": [
    "feature_barplot('language')"
   ]
  },
  {
   "cell_type": "markdown",
   "metadata": {},
   "source": [
    "#### 1.2.8 affiliate_channel"
   ]
  },
  {
   "cell_type": "code",
   "execution_count": 19,
   "metadata": {},
   "outputs": [
    {
     "data": {
      "image/png": "[encoded data removed]",
      "text/plain": [
       "<Figure size 720x360 with 1 Axes>"
      ]
     },
     "metadata": {
      "needs_background": "light"
     },
     "output_type": "display_data"
    }
   ],
   "source": [
    "feature_barplot('affiliate_channel')"
   ]
  },
  {
   "cell_type": "markdown",
   "metadata": {},
   "source": [
    "#### 1.2.9 first_affiliate_tracked"
   ]
  },
  {
   "cell_type": "code",
   "execution_count": 20,
   "metadata": {},
   "outputs": [
    {
     "data": {
      "image/png": "[encoded data removed]",
      "text/plain": [
       "<Figure size 720x360 with 1 Axes>"
      ]
     },
     "metadata": {
      "needs_background": "light"
     },
     "output_type": "display_data"
    }
   ],
   "source": [
    "feature_barplot('first_affiliate_tracked')"
   ]
  },
  {
   "cell_type": "markdown",
   "metadata": {},
   "source": [
    "#### 1.2.10 signup_app"
   ]
  },
  {
   "cell_type": "code",
   "execution_count": 21,
   "metadata": {},
   "outputs": [
    {
     "data": {
      "image/png": "[encoded data removed]",
      "text/plain": [
       "<Figure size 720x360 with 1 Axes>"
      ]
     },
     "metadata": {
      "needs_background": "light"
     },
     "output_type": "display_data"
    }
   ],
   "source": [
    "feature_barplot('signup_app')"
   ]
  },
  {
   "cell_type": "markdown",
   "metadata": {},
   "source": [
    "#### 1.2.11 first_device_type"
   ]
  },
  {
   "cell_type": "code",
   "execution_count": 22,
   "metadata": {},
   "outputs": [
    {
     "data": {
      "image/png": "[encoded data removed]",
      "text/plain": [
       "<Figure size 720x360 with 1 Axes>"
      ]
     },
     "metadata": {
      "needs_background": "light"
     },
     "output_type": "display_data"
    }
   ],
   "source": [
    "feature_barplot('first_device_type')"
   ]
  },
  {
   "cell_type": "markdown",
   "metadata": {},
   "source": [
    "#### 1.2.12 first_browser"
   ]
  },
  {
   "cell_type": "code",
   "execution_count": 23,
   "metadata": {},
   "outputs": [
    {
     "data": {
      "image/png": "[encoded data removed]",
      "text/plain": [
       "<Figure size 720x360 with 1 Axes>"
      ]
     },
     "metadata": {
      "needs_background": "light"
     },
     "output_type": "display_data"
    }
   ],
   "source": [
    "feature_barplot('first_browser')"
   ]
  },
  {
   "cell_type": "markdown",
   "metadata": {},
   "source": [
    "### 1.3数据分析——session文件\n",
    "我们先将session文件导入，查看前面10行数据"
   ]
  },
  {
   "cell_type": "code",
   "execution_count": 24,
   "metadata": {},
   "outputs": [
    {
     "data": {
      "text/html": [
       "<div>\n",
       "<style scoped>\n",
       "    .dataframe tbody tr th:only-of-type {\n",
       "        vertical-align: middle;\n",
       "    }\n",
       "\n",
       "    .dataframe tbody tr th {\n",
       "        vertical-align: top;\n",
       "    }\n",
       "\n",
       "    .dataframe thead th {\n",
       "        text-align: right;\n",
       "    }\n",
       "</style>\n",
       "<table border=\"1\" class=\"dataframe\">\n",
       "  <thead>\n",
       "    <tr style=\"text-align: right;\">\n",
       "      <th></th>\n",
       "      <th>user_id</th>\n",
       "      <th>action</th>\n",
       "      <th>action_type</th>\n",
       "      <th>action_detail</th>\n",
       "      <th>device_type</th>\n",
       "      <th>secs_elapsed</th>\n",
       "    </tr>\n",
       "  </thead>\n",
       "  <tbody>\n",
       "    <tr>\n",
       "      <th>0</th>\n",
       "      <td>d1mm9tcy42</td>\n",
       "      <td>lookup</td>\n",
       "      <td>NaN</td>\n",
       "      <td>NaN</td>\n",
       "      <td>Windows Desktop</td>\n",
       "      <td>319.0</td>\n",
       "    </tr>\n",
       "    <tr>\n",
       "      <th>1</th>\n",
       "      <td>d1mm9tcy42</td>\n",
       "      <td>search_results</td>\n",
       "      <td>click</td>\n",
       "      <td>view_search_results</td>\n",
       "      <td>Windows Desktop</td>\n",
       "      <td>67753.0</td>\n",
       "    </tr>\n",
       "    <tr>\n",
       "      <th>2</th>\n",
       "      <td>d1mm9tcy42</td>\n",
       "      <td>lookup</td>\n",
       "      <td>NaN</td>\n",
       "      <td>NaN</td>\n",
       "      <td>Windows Desktop</td>\n",
       "      <td>301.0</td>\n",
       "    </tr>\n",
       "    <tr>\n",
       "      <th>3</th>\n",
       "      <td>d1mm9tcy42</td>\n",
       "      <td>search_results</td>\n",
       "      <td>click</td>\n",
       "      <td>view_search_results</td>\n",
       "      <td>Windows Desktop</td>\n",
       "      <td>22141.0</td>\n",
       "    </tr>\n",
       "    <tr>\n",
       "      <th>4</th>\n",
       "      <td>d1mm9tcy42</td>\n",
       "      <td>lookup</td>\n",
       "      <td>NaN</td>\n",
       "      <td>NaN</td>\n",
       "      <td>Windows Desktop</td>\n",
       "      <td>435.0</td>\n",
       "    </tr>\n",
       "    <tr>\n",
       "      <th>5</th>\n",
       "      <td>d1mm9tcy42</td>\n",
       "      <td>search_results</td>\n",
       "      <td>click</td>\n",
       "      <td>view_search_results</td>\n",
       "      <td>Windows Desktop</td>\n",
       "      <td>7703.0</td>\n",
       "    </tr>\n",
       "    <tr>\n",
       "      <th>6</th>\n",
       "      <td>d1mm9tcy42</td>\n",
       "      <td>lookup</td>\n",
       "      <td>NaN</td>\n",
       "      <td>NaN</td>\n",
       "      <td>Windows Desktop</td>\n",
       "      <td>115.0</td>\n",
       "    </tr>\n",
       "    <tr>\n",
       "      <th>7</th>\n",
       "      <td>d1mm9tcy42</td>\n",
       "      <td>personalize</td>\n",
       "      <td>data</td>\n",
       "      <td>wishlist_content_update</td>\n",
       "      <td>Windows Desktop</td>\n",
       "      <td>831.0</td>\n",
       "    </tr>\n",
       "    <tr>\n",
       "      <th>8</th>\n",
       "      <td>d1mm9tcy42</td>\n",
       "      <td>index</td>\n",
       "      <td>view</td>\n",
       "      <td>view_search_results</td>\n",
       "      <td>Windows Desktop</td>\n",
       "      <td>20842.0</td>\n",
       "    </tr>\n",
       "    <tr>\n",
       "      <th>9</th>\n",
       "      <td>d1mm9tcy42</td>\n",
       "      <td>lookup</td>\n",
       "      <td>NaN</td>\n",
       "      <td>NaN</td>\n",
       "      <td>Windows Desktop</td>\n",
       "      <td>683.0</td>\n",
       "    </tr>\n",
       "  </tbody>\n",
       "</table>\n",
       "</div>"
      ],
      "text/plain": [
       "      user_id          action action_type            action_detail  \\\n",
       "0  d1mm9tcy42          lookup         NaN                      NaN   \n",
       "1  d1mm9tcy42  search_results       click      view_search_results   \n",
       "2  d1mm9tcy42          lookup         NaN                      NaN   \n",
       "3  d1mm9tcy42  search_results       click      view_search_results   \n",
       "4  d1mm9tcy42          lookup         NaN                      NaN   \n",
       "5  d1mm9tcy42  search_results       click      view_search_results   \n",
       "6  d1mm9tcy42          lookup         NaN                      NaN   \n",
       "7  d1mm9tcy42     personalize        data  wishlist_content_update   \n",
       "8  d1mm9tcy42           index        view      view_search_results   \n",
       "9  d1mm9tcy42          lookup         NaN                      NaN   \n",
       "\n",
       "       device_type  secs_elapsed  \n",
       "0  Windows Desktop         319.0  \n",
       "1  Windows Desktop       67753.0  \n",
       "2  Windows Desktop         301.0  \n",
       "3  Windows Desktop       22141.0  \n",
       "4  Windows Desktop         435.0  \n",
       "5  Windows Desktop        7703.0  \n",
       "6  Windows Desktop         115.0  \n",
       "7  Windows Desktop         831.0  \n",
       "8  Windows Desktop       20842.0  \n",
       "9  Windows Desktop         683.0  "
      ]
     },
     "execution_count": 24,
     "metadata": {},
     "output_type": "execute_result"
    }
   ],
   "source": [
    "df_sessions = pd.read_csv('./Data/sessions.csv')\n",
    "df_sessions.head(10)"
   ]
  },
  {
   "cell_type": "markdown",
   "metadata": {},
   "source": [
    "#### 1.3.1关联id\n",
    "在这里我们可以发现一共有6个特征，且user_id与train中的id是关联的。因此我们首先考虑的操作是将user_id改名为id\n",
    "\n",
    "----\n",
    "\n",
    "**用到的方法**\n",
    "**DataFrame.drop(labels=None,axis=0, index=None, columns=None, inplace=False)**\n",
    "\n",
    "**axis=0，指删除index，因此删除columns时要指定axis=1**"
   ]
  },
  {
   "cell_type": "code",
   "execution_count": 25,
   "metadata": {
    "scrolled": true
   },
   "outputs": [],
   "source": [
    "#在数据集最后创建一列——id。将user_id的值按照位置复制到id中。\n",
    "df_sessions['id'] = df_sessions['user_id']\n",
    "#删除user_id这一列。\n",
    "df_sessions = df_sessions.drop(['user_id'],axis = 1)"
   ]
  },
  {
   "cell_type": "markdown",
   "metadata": {},
   "source": [
    "然后我们查看sessions中的缺失值，我们可以看到action，action_type，action_detail， secs_elapsed缺失值较多。\n",
    "而为了后续统计方便，我们将这几个特征进行缺失值填充。"
   ]
  },
  {
   "cell_type": "code",
   "execution_count": 26,
   "metadata": {},
   "outputs": [
    {
     "data": {
      "text/plain": [
       "action                0\n",
       "action_type           0\n",
       "action_detail         0\n",
       "device_type           0\n",
       "secs_elapsed     136031\n",
       "id                34496\n",
       "dtype: int64"
      ]
     },
     "execution_count": 26,
     "metadata": {},
     "output_type": "execute_result"
    }
   ],
   "source": [
    "df_sessions.isnull().sum()\n",
    "df_sessions.action = df_sessions.action.fillna('NAN')\n",
    "df_sessions.action_type = df_sessions.action_type.fillna('NAN')\n",
    "df_sessions.action_detail = df_sessions.action_detail.fillna('NAN')\n",
    "df_sessions.isnull().sum()"
   ]
  },
  {
   "cell_type": "markdown",
   "metadata": {},
   "source": [
    "### 1.4特征提取\n",
    "在对数据大致了解之后，我们开始进行特征提取。\n",
    "\n",
    "#### 1.4.1对sessions文件特征提取\n",
    "\n",
    "----\n",
    "\n",
    "**使用到的方法**\n",
    "**（1）action**\n",
    "首先我们将action特征的相关信息查看统计一下,但是因为数据过多，我们只显示前10行。\n",
    "为了有个大致的估计我们同事也看看action最小值。发现为1."
   ]
  },
  {
   "cell_type": "code",
   "execution_count": 27,
   "metadata": {},
   "outputs": [
    {
     "data": {
      "text/plain": [
       "show                     2768278\n",
       "index                     843699\n",
       "search_results            725226\n",
       "personalize               706824\n",
       "search                    536057\n",
       "ajax_refresh_subtotal     487744\n",
       "update                    365130\n",
       "similar_listings          364624\n",
       "social_connections        339000\n",
       "reviews                   320591\n",
       "Name: action, dtype: int64"
      ]
     },
     "execution_count": 27,
     "metadata": {},
     "output_type": "execute_result"
    }
   ],
   "source": [
    "df_sessions.action.value_counts().head(10)\n",
    "# df_sessions.action.value_counts().min()"
   ]
  },
  {
   "cell_type": "markdown",
   "metadata": {},
   "source": [
    "根据上面的统计我们可以看到,action具有多种,且最少发生次数只有1,那么我们可以尝试将用户发生次数较少的行为action归为other一类.\n",
    "\n",
    "----\n",
    "\n",
    "**1、zip()**\n",
    "**zip() 函数用于将可迭代的对象作为参数，将对象中对应的元素打包成一个个元组，然后返回由这些元组组成的列表。**\n",
    "\n",
    "**如果各个迭代器的元素个数不一致，则返回列表长度与最短的对象相同，利用 * 号操作符，可以将元组解压为列表。**\n",
    "\n",
    "**2、np.unique(ar, return_index=False, return_inverse=False, return_counts=False,axis=None)**\n",
    "\n",
    "\n",
    "\n",
    "\n"
   ]
  },
  {
   "cell_type": "code",
   "execution_count": 30,
   "metadata": {
    "scrolled": true
   },
   "outputs": [
    {
     "data": {
      "text/plain": [
       "0                          lookup\n",
       "1                  search_results\n",
       "2                          lookup\n",
       "3                  search_results\n",
       "4                          lookup\n",
       "5                  search_results\n",
       "6                          lookup\n",
       "7                     personalize\n",
       "8                           index\n",
       "9                          lookup\n",
       "10                 search_results\n",
       "11                         lookup\n",
       "12                    personalize\n",
       "13                          index\n",
       "14               similar_listings\n",
       "15          ajax_refresh_subtotal\n",
       "16               similar_listings\n",
       "17          ajax_refresh_subtotal\n",
       "18                           show\n",
       "19                    personalize\n",
       "20                           show\n",
       "21                         lookup\n",
       "22                 search_results\n",
       "23                         lookup\n",
       "24                 search_results\n",
       "25                    personalize\n",
       "26                         lookup\n",
       "27                          index\n",
       "28                           show\n",
       "29                    personalize\n",
       "                    ...          \n",
       "10567707                   update\n",
       "10567708                   create\n",
       "10567709              personalize\n",
       "10567710           header_userpic\n",
       "10567711                   create\n",
       "10567712                     show\n",
       "10567713           header_userpic\n",
       "10567714              personalize\n",
       "10567715    ajax_refresh_subtotal\n",
       "10567716         similar_listings\n",
       "10567717                    index\n",
       "10567718            confirm_email\n",
       "10567719             authenticate\n",
       "10567720                dashboard\n",
       "10567721                     show\n",
       "10567722                   update\n",
       "10567723                     edit\n",
       "10567724    languages_multiselect\n",
       "10567725                   create\n",
       "10567726                 callback\n",
       "10567727                   active\n",
       "10567728                   create\n",
       "10567729           header_userpic\n",
       "10567730                     edit\n",
       "10567731                     edit\n",
       "10567732                dashboard\n",
       "10567733                     edit\n",
       "10567734            webcam_upload\n",
       "10567735                   active\n",
       "10567736         show_personalize\n",
       "Name: action, Length: 10567737, dtype: object"
      ]
     },
     "execution_count": 30,
     "metadata": {},
     "output_type": "execute_result"
    }
   ],
   "source": [
    "#将较低次数的action值归类为‘other’\n",
    "act_freq = 100\n",
    "act = dict(zip(*np.unique(df_sessions.action,return_counts = True)))\n",
    "df_sessions.action = df_sessions.action.apply(lambda x: 'OTHER' if act[x] < act_freq else x)\n",
    "#np.unique(df_sessions.action,return_counts=True)"
   ]
  },
  {
   "cell_type": "markdown",
   "metadata": {},
   "source": [
    "在处理完成action的数据分类之后，接下来对action_detail，action_type，device_type，secs_elapsed进行细化。\n",
    "—首先将用户的特征根据用户id进行分组。"
   ]
  },
  {
   "cell_type": "code",
   "execution_count": 31,
   "metadata": {},
   "outputs": [
    {
     "data": {
      "image/png": "[encoded data removed]",
      "text/plain": [
       "<Figure size 432x288 with 1 Axes>"
      ]
     },
     "metadata": {
      "needs_background": "light"
     },
     "output_type": "display_data"
    }
   ],
   "source": []
  },
  {
   "cell_type": "code",
   "execution_count": null,
   "metadata": {},
   "outputs": [],
   "source": []
  }
 ],
 "metadata": {
  "kernelspec": {
   "display_name": "Python 3",
   "language": "python",
   "name": "python3"
  },
  "language_info": {
   "codemirror_mode": {
    "name": "ipython",
    "version": 3
   },
   "file_extension": ".py",
   "mimetype": "text/x-python",
   "name": "python",
   "nbconvert_exporter": "python",
   "pygments_lexer": "ipython3",
   "version": "3.5.6"
  }
 },
 "nbformat": 4,
 "nbformat_minor": 2
}
